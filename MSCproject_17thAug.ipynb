{
  "cells": [
    {
      "cell_type": "code",
      "execution_count": null,
      "metadata": {
        "id": "s1rWae894mfn",
        "outputId": "335bec16-adc4-4e3b-f038-5727bfe4baa7"
      },
      "outputs": [
        {
          "name": "stdout",
          "output_type": "stream",
          "text": [
            "Requirement already satisfied: imblearn in c:\\programdata\\anaconda3\\lib\\site-packages (0.0)\n",
            "Requirement already satisfied: imbalanced-learn in c:\\programdata\\anaconda3\\lib\\site-packages (from imblearn) (0.11.0)\n",
            "Requirement already satisfied: scipy>=1.5.0 in c:\\programdata\\anaconda3\\lib\\site-packages (from imbalanced-learn->imblearn) (1.10.1)\n",
            "Requirement already satisfied: scikit-learn>=1.0.2 in c:\\programdata\\anaconda3\\lib\\site-packages (from imbalanced-learn->imblearn) (1.1.3)\n",
            "Requirement already satisfied: numpy>=1.17.3 in c:\\programdata\\anaconda3\\lib\\site-packages (from imbalanced-learn->imblearn) (1.24.3)\n",
            "Requirement already satisfied: threadpoolctl>=2.0.0 in c:\\programdata\\anaconda3\\lib\\site-packages (from imbalanced-learn->imblearn) (2.2.0)\n",
            "Requirement already satisfied: joblib>=1.1.1 in c:\\programdata\\anaconda3\\lib\\site-packages (from imbalanced-learn->imblearn) (1.2.0)\n",
            "Note: you may need to restart the kernel to use updated packages.\n"
          ]
        },
        {
          "name": "stderr",
          "output_type": "stream",
          "text": [
            "\n",
            "[notice] A new release of pip is available: 23.1.2 -> 23.2.1\n",
            "[notice] To update, run: python.exe -m pip install --upgrade pip\n"
          ]
        }
      ],
      "source": [
        "pip install imblearn"
      ]
    },
    {
      "cell_type": "code",
      "execution_count": 1,
      "metadata": {
        "id": "Q6LU3qEmSEXJ"
      },
      "outputs": [],
      "source": [
        "import pandas as pd\n",
        "import numpy as np\n",
        "import matplotlib.pyplot as plt\n",
        "import seaborn as sns\n",
        "#from scipy.stats.mstats import winsorize\n",
        "import pickle\n",
        "\n",
        "\n",
        "\n",
        "\n",
        "# Libraries for Data Preprocessing\n",
        "import glob\n",
        "#from numpy import sort\n",
        "#from sklearn.preprocessing import LabelEncoder\n",
        "from sklearn.model_selection import train_test_split\n",
        "from sklearn.preprocessing import StandardScaler\n",
        "import matplotlib.gridspec as gridspec\n",
        "#from xgboost import plot_importance, to_graphviz\n",
        "#from sklearn.model_selection import StratifiedKFold\n",
        "\n",
        "\n",
        "# Importing ML Model packages\n",
        "#from sklearn.feature_selection import SelectFromModel\n",
        "from sklearn.linear_model import LogisticRegression\n",
        "from sklearn.neighbors import KNeighborsClassifier\n",
        "from sklearn.naive_bayes import GaussianNB\n",
        "import xgboost as xgb\n",
        "#from sklearn.ensemble import RandomForestClassifier\n",
        "from sklearn.model_selection import RandomizedSearchCV\n",
        "from sklearn.linear_model import LogisticRegressionCV\n",
        "#import sklearn.neighbors\n",
        "from sklearn.model_selection import GridSearchCV\n",
        "from imblearn.over_sampling import SMOTE\n",
        "from imblearn.under_sampling import RandomUnderSampler\n",
        "from sklearn.ensemble import VotingClassifier\n",
        "from sklearn.datasets import make_classification\n",
        "from sklearn.model_selection import cross_val_score\n",
        "from sklearn.preprocessing import MinMaxScaler\n",
        "\n",
        "# Libraries for measuring accuracy\n",
        "from sklearn.metrics import classification_report,roc_auc_score\n",
        "from sklearn.metrics import accuracy_score\n",
        "from sklearn.metrics import precision_score\n",
        "from sklearn.metrics import recall_score\n",
        "#from sklearn.metrics import plot_roc_curve\n",
        "from sklearn.metrics import confusion_matrix, matthews_corrcoef, roc_curve, make_scorer\n",
        "from sklearn.metrics import ConfusionMatrixDisplay\n",
        "from sklearn.metrics import confusion_matrix\n",
        "from sklearn.metrics import f1_score\n",
        "from sklearn.metrics import balanced_accuracy_score\n",
        "import matplotlib.pyplot as plt\n",
        "\n",
        "from matplotlib.text import Text\n",
        "\n"
      ]
    },
    {
      "cell_type": "code",
      "execution_count": 2,
      "metadata": {
        "colab": {
          "base_uri": "https://localhost:8080/"
        },
        "id": "gQPf0yA-XKld",
        "outputId": "a3ed5557-181e-4152-97d4-0fe34f0ac72e"
      },
      "outputs": [
        {
          "output_type": "stream",
          "name": "stdout",
          "text": [
            "   Diabetes_binary  HighBP  HighChol  CholCheck   BMI  Smoker  Stroke  \\\n",
            "0              0.0     1.0       1.0        1.0  40.0     1.0     0.0   \n",
            "1              0.0     0.0       0.0        0.0  25.0     1.0     0.0   \n",
            "2              0.0     1.0       1.0        1.0  28.0     0.0     0.0   \n",
            "3              0.0     1.0       0.0        1.0  27.0     0.0     0.0   \n",
            "4              0.0     1.0       1.0        1.0  24.0     0.0     0.0   \n",
            "\n",
            "   HeartDiseaseorAttack  PhysActivity  Fruits  ...  AnyHealthcare  \\\n",
            "0                   0.0           0.0     0.0  ...            1.0   \n",
            "1                   0.0           1.0     0.0  ...            0.0   \n",
            "2                   0.0           0.0     1.0  ...            1.0   \n",
            "3                   0.0           1.0     1.0  ...            1.0   \n",
            "4                   0.0           1.0     1.0  ...            1.0   \n",
            "\n",
            "   NoDocbcCost  GenHlth  MentHlth  PhysHlth  DiffWalk  Sex   Age  Education  \\\n",
            "0          0.0      5.0      18.0      15.0       1.0  0.0   9.0        4.0   \n",
            "1          1.0      3.0       0.0       0.0       0.0  0.0   7.0        6.0   \n",
            "2          1.0      5.0      30.0      30.0       1.0  0.0   9.0        4.0   \n",
            "3          0.0      2.0       0.0       0.0       0.0  0.0  11.0        3.0   \n",
            "4          0.0      2.0       3.0       0.0       0.0  0.0  11.0        5.0   \n",
            "\n",
            "   Income  \n",
            "0     3.0  \n",
            "1     1.0  \n",
            "2     8.0  \n",
            "3     6.0  \n",
            "4     4.0  \n",
            "\n",
            "[5 rows x 22 columns]\n"
          ]
        }
      ],
      "source": [
        "# Load the data from a CSV file\n",
        "data = pd.read_csv(\"https://raw.githubusercontent.com/GraceOluwafemi/Msc-Project/main/diabetes_data.csv\")\n",
        "\n",
        "# Print the first few rows of the data\n",
        "print (data.head())"
      ]
    },
    {
      "cell_type": "code",
      "execution_count": 3,
      "metadata": {
        "colab": {
          "base_uri": "https://localhost:8080/",
          "height": 236
        },
        "id": "BRvUuYkliH5R",
        "outputId": "8b2ad04b-36c7-4943-baad-9bc3c24c6adf"
      },
      "outputs": [
        {
          "output_type": "execute_result",
          "data": {
            "text/plain": [
              "   Diabetes_binary  HighBP  HighChol  CholCheck   BMI  Smoker  Stroke  \\\n",
              "0              0.0     1.0       1.0        1.0  40.0     1.0     0.0   \n",
              "1              0.0     0.0       0.0        0.0  25.0     1.0     0.0   \n",
              "2              0.0     1.0       1.0        1.0  28.0     0.0     0.0   \n",
              "3              0.0     1.0       0.0        1.0  27.0     0.0     0.0   \n",
              "4              0.0     1.0       1.0        1.0  24.0     0.0     0.0   \n",
              "\n",
              "   HeartDiseaseorAttack  PhysActivity  Fruits  ...  AnyHealthcare  \\\n",
              "0                   0.0           0.0     0.0  ...            1.0   \n",
              "1                   0.0           1.0     0.0  ...            0.0   \n",
              "2                   0.0           0.0     1.0  ...            1.0   \n",
              "3                   0.0           1.0     1.0  ...            1.0   \n",
              "4                   0.0           1.0     1.0  ...            1.0   \n",
              "\n",
              "   NoDocbcCost  GenHlth  MentHlth  PhysHlth  DiffWalk  Sex   Age  Education  \\\n",
              "0          0.0      5.0      18.0      15.0       1.0  0.0   9.0        4.0   \n",
              "1          1.0      3.0       0.0       0.0       0.0  0.0   7.0        6.0   \n",
              "2          1.0      5.0      30.0      30.0       1.0  0.0   9.0        4.0   \n",
              "3          0.0      2.0       0.0       0.0       0.0  0.0  11.0        3.0   \n",
              "4          0.0      2.0       3.0       0.0       0.0  0.0  11.0        5.0   \n",
              "\n",
              "   Income  \n",
              "0     3.0  \n",
              "1     1.0  \n",
              "2     8.0  \n",
              "3     6.0  \n",
              "4     4.0  \n",
              "\n",
              "[5 rows x 22 columns]"
            ],
            "text/html": [
              "\n",
              "  <div id=\"df-6e55cebb-33b4-4e56-ad52-426296cf3132\" class=\"colab-df-container\">\n",
              "    <div>\n",
              "<style scoped>\n",
              "    .dataframe tbody tr th:only-of-type {\n",
              "        vertical-align: middle;\n",
              "    }\n",
              "\n",
              "    .dataframe tbody tr th {\n",
              "        vertical-align: top;\n",
              "    }\n",
              "\n",
              "    .dataframe thead th {\n",
              "        text-align: right;\n",
              "    }\n",
              "</style>\n",
              "<table border=\"1\" class=\"dataframe\">\n",
              "  <thead>\n",
              "    <tr style=\"text-align: right;\">\n",
              "      <th></th>\n",
              "      <th>Diabetes_binary</th>\n",
              "      <th>HighBP</th>\n",
              "      <th>HighChol</th>\n",
              "      <th>CholCheck</th>\n",
              "      <th>BMI</th>\n",
              "      <th>Smoker</th>\n",
              "      <th>Stroke</th>\n",
              "      <th>HeartDiseaseorAttack</th>\n",
              "      <th>PhysActivity</th>\n",
              "      <th>Fruits</th>\n",
              "      <th>...</th>\n",
              "      <th>AnyHealthcare</th>\n",
              "      <th>NoDocbcCost</th>\n",
              "      <th>GenHlth</th>\n",
              "      <th>MentHlth</th>\n",
              "      <th>PhysHlth</th>\n",
              "      <th>DiffWalk</th>\n",
              "      <th>Sex</th>\n",
              "      <th>Age</th>\n",
              "      <th>Education</th>\n",
              "      <th>Income</th>\n",
              "    </tr>\n",
              "  </thead>\n",
              "  <tbody>\n",
              "    <tr>\n",
              "      <th>0</th>\n",
              "      <td>0.0</td>\n",
              "      <td>1.0</td>\n",
              "      <td>1.0</td>\n",
              "      <td>1.0</td>\n",
              "      <td>40.0</td>\n",
              "      <td>1.0</td>\n",
              "      <td>0.0</td>\n",
              "      <td>0.0</td>\n",
              "      <td>0.0</td>\n",
              "      <td>0.0</td>\n",
              "      <td>...</td>\n",
              "      <td>1.0</td>\n",
              "      <td>0.0</td>\n",
              "      <td>5.0</td>\n",
              "      <td>18.0</td>\n",
              "      <td>15.0</td>\n",
              "      <td>1.0</td>\n",
              "      <td>0.0</td>\n",
              "      <td>9.0</td>\n",
              "      <td>4.0</td>\n",
              "      <td>3.0</td>\n",
              "    </tr>\n",
              "    <tr>\n",
              "      <th>1</th>\n",
              "      <td>0.0</td>\n",
              "      <td>0.0</td>\n",
              "      <td>0.0</td>\n",
              "      <td>0.0</td>\n",
              "      <td>25.0</td>\n",
              "      <td>1.0</td>\n",
              "      <td>0.0</td>\n",
              "      <td>0.0</td>\n",
              "      <td>1.0</td>\n",
              "      <td>0.0</td>\n",
              "      <td>...</td>\n",
              "      <td>0.0</td>\n",
              "      <td>1.0</td>\n",
              "      <td>3.0</td>\n",
              "      <td>0.0</td>\n",
              "      <td>0.0</td>\n",
              "      <td>0.0</td>\n",
              "      <td>0.0</td>\n",
              "      <td>7.0</td>\n",
              "      <td>6.0</td>\n",
              "      <td>1.0</td>\n",
              "    </tr>\n",
              "    <tr>\n",
              "      <th>2</th>\n",
              "      <td>0.0</td>\n",
              "      <td>1.0</td>\n",
              "      <td>1.0</td>\n",
              "      <td>1.0</td>\n",
              "      <td>28.0</td>\n",
              "      <td>0.0</td>\n",
              "      <td>0.0</td>\n",
              "      <td>0.0</td>\n",
              "      <td>0.0</td>\n",
              "      <td>1.0</td>\n",
              "      <td>...</td>\n",
              "      <td>1.0</td>\n",
              "      <td>1.0</td>\n",
              "      <td>5.0</td>\n",
              "      <td>30.0</td>\n",
              "      <td>30.0</td>\n",
              "      <td>1.0</td>\n",
              "      <td>0.0</td>\n",
              "      <td>9.0</td>\n",
              "      <td>4.0</td>\n",
              "      <td>8.0</td>\n",
              "    </tr>\n",
              "    <tr>\n",
              "      <th>3</th>\n",
              "      <td>0.0</td>\n",
              "      <td>1.0</td>\n",
              "      <td>0.0</td>\n",
              "      <td>1.0</td>\n",
              "      <td>27.0</td>\n",
              "      <td>0.0</td>\n",
              "      <td>0.0</td>\n",
              "      <td>0.0</td>\n",
              "      <td>1.0</td>\n",
              "      <td>1.0</td>\n",
              "      <td>...</td>\n",
              "      <td>1.0</td>\n",
              "      <td>0.0</td>\n",
              "      <td>2.0</td>\n",
              "      <td>0.0</td>\n",
              "      <td>0.0</td>\n",
              "      <td>0.0</td>\n",
              "      <td>0.0</td>\n",
              "      <td>11.0</td>\n",
              "      <td>3.0</td>\n",
              "      <td>6.0</td>\n",
              "    </tr>\n",
              "    <tr>\n",
              "      <th>4</th>\n",
              "      <td>0.0</td>\n",
              "      <td>1.0</td>\n",
              "      <td>1.0</td>\n",
              "      <td>1.0</td>\n",
              "      <td>24.0</td>\n",
              "      <td>0.0</td>\n",
              "      <td>0.0</td>\n",
              "      <td>0.0</td>\n",
              "      <td>1.0</td>\n",
              "      <td>1.0</td>\n",
              "      <td>...</td>\n",
              "      <td>1.0</td>\n",
              "      <td>0.0</td>\n",
              "      <td>2.0</td>\n",
              "      <td>3.0</td>\n",
              "      <td>0.0</td>\n",
              "      <td>0.0</td>\n",
              "      <td>0.0</td>\n",
              "      <td>11.0</td>\n",
              "      <td>5.0</td>\n",
              "      <td>4.0</td>\n",
              "    </tr>\n",
              "  </tbody>\n",
              "</table>\n",
              "<p>5 rows × 22 columns</p>\n",
              "</div>\n",
              "    <div class=\"colab-df-buttons\">\n",
              "\n",
              "  <div class=\"colab-df-container\">\n",
              "    <button class=\"colab-df-convert\" onclick=\"convertToInteractive('df-6e55cebb-33b4-4e56-ad52-426296cf3132')\"\n",
              "            title=\"Convert this dataframe to an interactive table.\"\n",
              "            style=\"display:none;\">\n",
              "\n",
              "  <svg xmlns=\"http://www.w3.org/2000/svg\" height=\"24px\" viewBox=\"0 -960 960 960\">\n",
              "    <path d=\"M120-120v-720h720v720H120Zm60-500h600v-160H180v160Zm220 220h160v-160H400v160Zm0 220h160v-160H400v160ZM180-400h160v-160H180v160Zm440 0h160v-160H620v160ZM180-180h160v-160H180v160Zm440 0h160v-160H620v160Z\"/>\n",
              "  </svg>\n",
              "    </button>\n",
              "\n",
              "  <style>\n",
              "    .colab-df-container {\n",
              "      display:flex;\n",
              "      gap: 12px;\n",
              "    }\n",
              "\n",
              "    .colab-df-convert {\n",
              "      background-color: #E8F0FE;\n",
              "      border: none;\n",
              "      border-radius: 50%;\n",
              "      cursor: pointer;\n",
              "      display: none;\n",
              "      fill: #1967D2;\n",
              "      height: 32px;\n",
              "      padding: 0 0 0 0;\n",
              "      width: 32px;\n",
              "    }\n",
              "\n",
              "    .colab-df-convert:hover {\n",
              "      background-color: #E2EBFA;\n",
              "      box-shadow: 0px 1px 2px rgba(60, 64, 67, 0.3), 0px 1px 3px 1px rgba(60, 64, 67, 0.15);\n",
              "      fill: #174EA6;\n",
              "    }\n",
              "\n",
              "    .colab-df-buttons div {\n",
              "      margin-bottom: 4px;\n",
              "    }\n",
              "\n",
              "    [theme=dark] .colab-df-convert {\n",
              "      background-color: #3B4455;\n",
              "      fill: #D2E3FC;\n",
              "    }\n",
              "\n",
              "    [theme=dark] .colab-df-convert:hover {\n",
              "      background-color: #434B5C;\n",
              "      box-shadow: 0px 1px 3px 1px rgba(0, 0, 0, 0.15);\n",
              "      filter: drop-shadow(0px 1px 2px rgba(0, 0, 0, 0.3));\n",
              "      fill: #FFFFFF;\n",
              "    }\n",
              "  </style>\n",
              "\n",
              "    <script>\n",
              "      const buttonEl =\n",
              "        document.querySelector('#df-6e55cebb-33b4-4e56-ad52-426296cf3132 button.colab-df-convert');\n",
              "      buttonEl.style.display =\n",
              "        google.colab.kernel.accessAllowed ? 'block' : 'none';\n",
              "\n",
              "      async function convertToInteractive(key) {\n",
              "        const element = document.querySelector('#df-6e55cebb-33b4-4e56-ad52-426296cf3132');\n",
              "        const dataTable =\n",
              "          await google.colab.kernel.invokeFunction('convertToInteractive',\n",
              "                                                    [key], {});\n",
              "        if (!dataTable) return;\n",
              "\n",
              "        const docLinkHtml = 'Like what you see? Visit the ' +\n",
              "          '<a target=\"_blank\" href=https://colab.research.google.com/notebooks/data_table.ipynb>data table notebook</a>'\n",
              "          + ' to learn more about interactive tables.';\n",
              "        element.innerHTML = '';\n",
              "        dataTable['output_type'] = 'display_data';\n",
              "        await google.colab.output.renderOutput(dataTable, element);\n",
              "        const docLink = document.createElement('div');\n",
              "        docLink.innerHTML = docLinkHtml;\n",
              "        element.appendChild(docLink);\n",
              "      }\n",
              "    </script>\n",
              "  </div>\n",
              "\n",
              "\n",
              "<div id=\"df-4b44e4f4-e254-4587-b871-56012f32495e\">\n",
              "  <button class=\"colab-df-quickchart\" onclick=\"quickchart('df-4b44e4f4-e254-4587-b871-56012f32495e')\"\n",
              "            title=\"Suggest charts.\"\n",
              "            style=\"display:none;\">\n",
              "\n",
              "<svg xmlns=\"http://www.w3.org/2000/svg\" height=\"24px\"viewBox=\"0 0 24 24\"\n",
              "     width=\"24px\">\n",
              "    <g>\n",
              "        <path d=\"M19 3H5c-1.1 0-2 .9-2 2v14c0 1.1.9 2 2 2h14c1.1 0 2-.9 2-2V5c0-1.1-.9-2-2-2zM9 17H7v-7h2v7zm4 0h-2V7h2v10zm4 0h-2v-4h2v4z\"/>\n",
              "    </g>\n",
              "</svg>\n",
              "  </button>\n",
              "\n",
              "<style>\n",
              "  .colab-df-quickchart {\n",
              "    background-color: #E8F0FE;\n",
              "    border: none;\n",
              "    border-radius: 50%;\n",
              "    cursor: pointer;\n",
              "    display: none;\n",
              "    fill: #1967D2;\n",
              "    height: 32px;\n",
              "    padding: 0 0 0 0;\n",
              "    width: 32px;\n",
              "  }\n",
              "\n",
              "  .colab-df-quickchart:hover {\n",
              "    background-color: #E2EBFA;\n",
              "    box-shadow: 0px 1px 2px rgba(60, 64, 67, 0.3), 0px 1px 3px 1px rgba(60, 64, 67, 0.15);\n",
              "    fill: #174EA6;\n",
              "  }\n",
              "\n",
              "  [theme=dark] .colab-df-quickchart {\n",
              "    background-color: #3B4455;\n",
              "    fill: #D2E3FC;\n",
              "  }\n",
              "\n",
              "  [theme=dark] .colab-df-quickchart:hover {\n",
              "    background-color: #434B5C;\n",
              "    box-shadow: 0px 1px 3px 1px rgba(0, 0, 0, 0.15);\n",
              "    filter: drop-shadow(0px 1px 2px rgba(0, 0, 0, 0.3));\n",
              "    fill: #FFFFFF;\n",
              "  }\n",
              "</style>\n",
              "\n",
              "  <script>\n",
              "    async function quickchart(key) {\n",
              "      const charts = await google.colab.kernel.invokeFunction(\n",
              "          'suggestCharts', [key], {});\n",
              "    }\n",
              "    (() => {\n",
              "      let quickchartButtonEl =\n",
              "        document.querySelector('#df-4b44e4f4-e254-4587-b871-56012f32495e button');\n",
              "      quickchartButtonEl.style.display =\n",
              "        google.colab.kernel.accessAllowed ? 'block' : 'none';\n",
              "    })();\n",
              "  </script>\n",
              "</div>\n",
              "    </div>\n",
              "  </div>\n"
            ]
          },
          "metadata": {},
          "execution_count": 3
        }
      ],
      "source": [
        "data.head()"
      ]
    },
    {
      "cell_type": "code",
      "execution_count": 4,
      "metadata": {
        "id": "4N7h9QH-mUp1"
      },
      "outputs": [],
      "source": [
        "data = data.rename(columns={'Diabetes_binary': 'Diabetes_Status'})"
      ]
    },
    {
      "cell_type": "code",
      "execution_count": null,
      "metadata": {
        "colab": {
          "base_uri": "https://localhost:8080/"
        },
        "id": "PSb8ve2HigWg",
        "outputId": "74d67af6-7a3e-4a58-9791-dc799b60d38e"
      },
      "outputs": [
        {
          "output_type": "stream",
          "name": "stdout",
          "text": [
            "<class 'pandas.core.frame.DataFrame'>\n",
            "RangeIndex: 253680 entries, 0 to 253679\n",
            "Data columns (total 22 columns):\n",
            " #   Column                Non-Null Count   Dtype  \n",
            "---  ------                --------------   -----  \n",
            " 0   Diabetes_Status       253680 non-null  float64\n",
            " 1   HighBP                253680 non-null  float64\n",
            " 2   HighChol              253680 non-null  float64\n",
            " 3   CholCheck             253680 non-null  float64\n",
            " 4   BMI                   253680 non-null  float64\n",
            " 5   Smoker                253680 non-null  float64\n",
            " 6   Stroke                253680 non-null  float64\n",
            " 7   HeartDiseaseorAttack  253680 non-null  float64\n",
            " 8   PhysActivity          253680 non-null  float64\n",
            " 9   Fruits                253680 non-null  float64\n",
            " 10  Veggies               253680 non-null  float64\n",
            " 11  HvyAlcoholConsump     253680 non-null  float64\n",
            " 12  AnyHealthcare         253680 non-null  float64\n",
            " 13  NoDocbcCost           253680 non-null  float64\n",
            " 14  GenHlth               253680 non-null  float64\n",
            " 15  MentHlth              253680 non-null  float64\n",
            " 16  PhysHlth              253680 non-null  float64\n",
            " 17  DiffWalk              253680 non-null  float64\n",
            " 18  Sex                   253680 non-null  float64\n",
            " 19  Age                   253680 non-null  float64\n",
            " 20  Education             253680 non-null  float64\n",
            " 21  Income                253680 non-null  float64\n",
            "dtypes: float64(22)\n",
            "memory usage: 42.6 MB\n"
          ]
        }
      ],
      "source": [
        "data.info()"
      ]
    },
    {
      "cell_type": "code",
      "execution_count": 5,
      "metadata": {
        "colab": {
          "base_uri": "https://localhost:8080/"
        },
        "id": "6Rfzns7AtiJu",
        "outputId": "b69df36a-d45e-41a1-ad50-a9354d9ff7b8"
      },
      "outputs": [
        {
          "output_type": "stream",
          "name": "stdout",
          "text": [
            "   Diabetes_Status  HighBP  HighChol  CholCheck   BMI  Smoker  Stroke  \\\n",
            "0                0       1         1          1  40.0       1       0   \n",
            "1                0       0         0          0  25.0       1       0   \n",
            "2                0       1         1          1  28.0       0       0   \n",
            "3                0       1         0          1  27.0       0       0   \n",
            "4                0       1         1          1  24.0       0       0   \n",
            "\n",
            "   HeartDiseaseorAttack  PhysActivity  Fruits  ...  AnyHealthcare  \\\n",
            "0                     0             0       0  ...              1   \n",
            "1                     0             1       0  ...              0   \n",
            "2                     0             0       1  ...              1   \n",
            "3                     0             1       1  ...              1   \n",
            "4                     0             1       1  ...              1   \n",
            "\n",
            "   NoDocbcCost  GenHlth  MentHlth  PhysHlth  DiffWalk  Sex  Age  Education  \\\n",
            "0            0      5.0      18.0      15.0         1    0    9          4   \n",
            "1            1      3.0       0.0       0.0         0    0    7          6   \n",
            "2            1      5.0      30.0      30.0         1    0    9          4   \n",
            "3            0      2.0       0.0       0.0         0    0   11          3   \n",
            "4            0      2.0       3.0       0.0         0    0   11          5   \n",
            "\n",
            "   Income  \n",
            "0       3  \n",
            "1       1  \n",
            "2       8  \n",
            "3       6  \n",
            "4       4  \n",
            "\n",
            "[5 rows x 22 columns]\n"
          ]
        }
      ],
      "source": [
        "data['Diabetes_Status'] = data['Diabetes_Status'].astype(int)\n",
        "data['HighBP'] = data['HighBP'].astype(int)\n",
        "data['HighChol'] = data['HighChol'].astype(int)\n",
        "data['CholCheck'] = data['CholCheck'].astype(int)\n",
        "data['Smoker'] = data['Smoker'].astype(int)\n",
        "data['Stroke'] = data['Stroke'].astype(int)\n",
        "data['HeartDiseaseorAttack'] = data['HeartDiseaseorAttack'].astype(int)\n",
        "data['PhysActivity'] = data['PhysActivity'].astype(int)\n",
        "data['Fruits'] = data['Fruits'].astype(int)\n",
        "data['Veggies'] = data['Veggies'].astype(int)\n",
        "data['HvyAlcoholConsump'] = data['HvyAlcoholConsump'].astype(int)\n",
        "data['AnyHealthcare'] = data['AnyHealthcare'].astype(int)\n",
        "data['NoDocbcCost'] = data['NoDocbcCost'].astype(int)\n",
        "data['DiffWalk'] = data['DiffWalk'].astype(int)\n",
        "data['Sex'] = data['Sex'].astype(int)\n",
        "data['Age'] = data['Age'].astype(int)\n",
        "data['Education'] = data['Education'].astype(int)\n",
        "data['Income'] = data['Income'].astype(int)\n",
        "\n",
        "print(data.head())"
      ]
    },
    {
      "cell_type": "code",
      "execution_count": 6,
      "metadata": {
        "colab": {
          "base_uri": "https://localhost:8080/",
          "height": 350
        },
        "id": "_AH84b0ji2jh",
        "outputId": "6e6dec9e-ae2d-426b-fc0b-73fac92f5f48"
      },
      "outputs": [
        {
          "output_type": "execute_result",
          "data": {
            "text/plain": [
              "       Diabetes_Status         HighBP       HighChol      CholCheck  \\\n",
              "count    253680.000000  253680.000000  253680.000000  253680.000000   \n",
              "mean          0.139333       0.429001       0.424121       0.962670   \n",
              "std           0.346294       0.494934       0.494210       0.189571   \n",
              "min           0.000000       0.000000       0.000000       0.000000   \n",
              "25%           0.000000       0.000000       0.000000       1.000000   \n",
              "50%           0.000000       0.000000       0.000000       1.000000   \n",
              "75%           0.000000       1.000000       1.000000       1.000000   \n",
              "max           1.000000       1.000000       1.000000       1.000000   \n",
              "\n",
              "                 BMI         Smoker         Stroke  HeartDiseaseorAttack  \\\n",
              "count  253680.000000  253680.000000  253680.000000         253680.000000   \n",
              "mean       28.382364       0.443169       0.040571              0.094186   \n",
              "std         6.608694       0.496761       0.197294              0.292087   \n",
              "min        12.000000       0.000000       0.000000              0.000000   \n",
              "25%        24.000000       0.000000       0.000000              0.000000   \n",
              "50%        27.000000       0.000000       0.000000              0.000000   \n",
              "75%        31.000000       1.000000       0.000000              0.000000   \n",
              "max        98.000000       1.000000       1.000000              1.000000   \n",
              "\n",
              "        PhysActivity         Fruits  ...  AnyHealthcare    NoDocbcCost  \\\n",
              "count  253680.000000  253680.000000  ...  253680.000000  253680.000000   \n",
              "mean        0.756544       0.634256  ...       0.951053       0.084177   \n",
              "std         0.429169       0.481639  ...       0.215759       0.277654   \n",
              "min         0.000000       0.000000  ...       0.000000       0.000000   \n",
              "25%         1.000000       0.000000  ...       1.000000       0.000000   \n",
              "50%         1.000000       1.000000  ...       1.000000       0.000000   \n",
              "75%         1.000000       1.000000  ...       1.000000       0.000000   \n",
              "max         1.000000       1.000000  ...       1.000000       1.000000   \n",
              "\n",
              "             GenHlth       MentHlth       PhysHlth       DiffWalk  \\\n",
              "count  253680.000000  253680.000000  253680.000000  253680.000000   \n",
              "mean        2.511392       3.184772       4.242081       0.168224   \n",
              "std         1.068477       7.412847       8.717951       0.374066   \n",
              "min         1.000000       0.000000       0.000000       0.000000   \n",
              "25%         2.000000       0.000000       0.000000       0.000000   \n",
              "50%         2.000000       0.000000       0.000000       0.000000   \n",
              "75%         3.000000       2.000000       3.000000       0.000000   \n",
              "max         5.000000      30.000000      30.000000       1.000000   \n",
              "\n",
              "                 Sex            Age      Education         Income  \n",
              "count  253680.000000  253680.000000  253680.000000  253680.000000  \n",
              "mean        0.440342       8.032119       5.050434       6.053875  \n",
              "std         0.496429       3.054220       0.985774       2.071148  \n",
              "min         0.000000       1.000000       1.000000       1.000000  \n",
              "25%         0.000000       6.000000       4.000000       5.000000  \n",
              "50%         0.000000       8.000000       5.000000       7.000000  \n",
              "75%         1.000000      10.000000       6.000000       8.000000  \n",
              "max         1.000000      13.000000       6.000000       8.000000  \n",
              "\n",
              "[8 rows x 22 columns]"
            ],
            "text/html": [
              "\n",
              "  <div id=\"df-16de5f0b-bea1-466f-b183-e774d97340bb\" class=\"colab-df-container\">\n",
              "    <div>\n",
              "<style scoped>\n",
              "    .dataframe tbody tr th:only-of-type {\n",
              "        vertical-align: middle;\n",
              "    }\n",
              "\n",
              "    .dataframe tbody tr th {\n",
              "        vertical-align: top;\n",
              "    }\n",
              "\n",
              "    .dataframe thead th {\n",
              "        text-align: right;\n",
              "    }\n",
              "</style>\n",
              "<table border=\"1\" class=\"dataframe\">\n",
              "  <thead>\n",
              "    <tr style=\"text-align: right;\">\n",
              "      <th></th>\n",
              "      <th>Diabetes_Status</th>\n",
              "      <th>HighBP</th>\n",
              "      <th>HighChol</th>\n",
              "      <th>CholCheck</th>\n",
              "      <th>BMI</th>\n",
              "      <th>Smoker</th>\n",
              "      <th>Stroke</th>\n",
              "      <th>HeartDiseaseorAttack</th>\n",
              "      <th>PhysActivity</th>\n",
              "      <th>Fruits</th>\n",
              "      <th>...</th>\n",
              "      <th>AnyHealthcare</th>\n",
              "      <th>NoDocbcCost</th>\n",
              "      <th>GenHlth</th>\n",
              "      <th>MentHlth</th>\n",
              "      <th>PhysHlth</th>\n",
              "      <th>DiffWalk</th>\n",
              "      <th>Sex</th>\n",
              "      <th>Age</th>\n",
              "      <th>Education</th>\n",
              "      <th>Income</th>\n",
              "    </tr>\n",
              "  </thead>\n",
              "  <tbody>\n",
              "    <tr>\n",
              "      <th>count</th>\n",
              "      <td>253680.000000</td>\n",
              "      <td>253680.000000</td>\n",
              "      <td>253680.000000</td>\n",
              "      <td>253680.000000</td>\n",
              "      <td>253680.000000</td>\n",
              "      <td>253680.000000</td>\n",
              "      <td>253680.000000</td>\n",
              "      <td>253680.000000</td>\n",
              "      <td>253680.000000</td>\n",
              "      <td>253680.000000</td>\n",
              "      <td>...</td>\n",
              "      <td>253680.000000</td>\n",
              "      <td>253680.000000</td>\n",
              "      <td>253680.000000</td>\n",
              "      <td>253680.000000</td>\n",
              "      <td>253680.000000</td>\n",
              "      <td>253680.000000</td>\n",
              "      <td>253680.000000</td>\n",
              "      <td>253680.000000</td>\n",
              "      <td>253680.000000</td>\n",
              "      <td>253680.000000</td>\n",
              "    </tr>\n",
              "    <tr>\n",
              "      <th>mean</th>\n",
              "      <td>0.139333</td>\n",
              "      <td>0.429001</td>\n",
              "      <td>0.424121</td>\n",
              "      <td>0.962670</td>\n",
              "      <td>28.382364</td>\n",
              "      <td>0.443169</td>\n",
              "      <td>0.040571</td>\n",
              "      <td>0.094186</td>\n",
              "      <td>0.756544</td>\n",
              "      <td>0.634256</td>\n",
              "      <td>...</td>\n",
              "      <td>0.951053</td>\n",
              "      <td>0.084177</td>\n",
              "      <td>2.511392</td>\n",
              "      <td>3.184772</td>\n",
              "      <td>4.242081</td>\n",
              "      <td>0.168224</td>\n",
              "      <td>0.440342</td>\n",
              "      <td>8.032119</td>\n",
              "      <td>5.050434</td>\n",
              "      <td>6.053875</td>\n",
              "    </tr>\n",
              "    <tr>\n",
              "      <th>std</th>\n",
              "      <td>0.346294</td>\n",
              "      <td>0.494934</td>\n",
              "      <td>0.494210</td>\n",
              "      <td>0.189571</td>\n",
              "      <td>6.608694</td>\n",
              "      <td>0.496761</td>\n",
              "      <td>0.197294</td>\n",
              "      <td>0.292087</td>\n",
              "      <td>0.429169</td>\n",
              "      <td>0.481639</td>\n",
              "      <td>...</td>\n",
              "      <td>0.215759</td>\n",
              "      <td>0.277654</td>\n",
              "      <td>1.068477</td>\n",
              "      <td>7.412847</td>\n",
              "      <td>8.717951</td>\n",
              "      <td>0.374066</td>\n",
              "      <td>0.496429</td>\n",
              "      <td>3.054220</td>\n",
              "      <td>0.985774</td>\n",
              "      <td>2.071148</td>\n",
              "    </tr>\n",
              "    <tr>\n",
              "      <th>min</th>\n",
              "      <td>0.000000</td>\n",
              "      <td>0.000000</td>\n",
              "      <td>0.000000</td>\n",
              "      <td>0.000000</td>\n",
              "      <td>12.000000</td>\n",
              "      <td>0.000000</td>\n",
              "      <td>0.000000</td>\n",
              "      <td>0.000000</td>\n",
              "      <td>0.000000</td>\n",
              "      <td>0.000000</td>\n",
              "      <td>...</td>\n",
              "      <td>0.000000</td>\n",
              "      <td>0.000000</td>\n",
              "      <td>1.000000</td>\n",
              "      <td>0.000000</td>\n",
              "      <td>0.000000</td>\n",
              "      <td>0.000000</td>\n",
              "      <td>0.000000</td>\n",
              "      <td>1.000000</td>\n",
              "      <td>1.000000</td>\n",
              "      <td>1.000000</td>\n",
              "    </tr>\n",
              "    <tr>\n",
              "      <th>25%</th>\n",
              "      <td>0.000000</td>\n",
              "      <td>0.000000</td>\n",
              "      <td>0.000000</td>\n",
              "      <td>1.000000</td>\n",
              "      <td>24.000000</td>\n",
              "      <td>0.000000</td>\n",
              "      <td>0.000000</td>\n",
              "      <td>0.000000</td>\n",
              "      <td>1.000000</td>\n",
              "      <td>0.000000</td>\n",
              "      <td>...</td>\n",
              "      <td>1.000000</td>\n",
              "      <td>0.000000</td>\n",
              "      <td>2.000000</td>\n",
              "      <td>0.000000</td>\n",
              "      <td>0.000000</td>\n",
              "      <td>0.000000</td>\n",
              "      <td>0.000000</td>\n",
              "      <td>6.000000</td>\n",
              "      <td>4.000000</td>\n",
              "      <td>5.000000</td>\n",
              "    </tr>\n",
              "    <tr>\n",
              "      <th>50%</th>\n",
              "      <td>0.000000</td>\n",
              "      <td>0.000000</td>\n",
              "      <td>0.000000</td>\n",
              "      <td>1.000000</td>\n",
              "      <td>27.000000</td>\n",
              "      <td>0.000000</td>\n",
              "      <td>0.000000</td>\n",
              "      <td>0.000000</td>\n",
              "      <td>1.000000</td>\n",
              "      <td>1.000000</td>\n",
              "      <td>...</td>\n",
              "      <td>1.000000</td>\n",
              "      <td>0.000000</td>\n",
              "      <td>2.000000</td>\n",
              "      <td>0.000000</td>\n",
              "      <td>0.000000</td>\n",
              "      <td>0.000000</td>\n",
              "      <td>0.000000</td>\n",
              "      <td>8.000000</td>\n",
              "      <td>5.000000</td>\n",
              "      <td>7.000000</td>\n",
              "    </tr>\n",
              "    <tr>\n",
              "      <th>75%</th>\n",
              "      <td>0.000000</td>\n",
              "      <td>1.000000</td>\n",
              "      <td>1.000000</td>\n",
              "      <td>1.000000</td>\n",
              "      <td>31.000000</td>\n",
              "      <td>1.000000</td>\n",
              "      <td>0.000000</td>\n",
              "      <td>0.000000</td>\n",
              "      <td>1.000000</td>\n",
              "      <td>1.000000</td>\n",
              "      <td>...</td>\n",
              "      <td>1.000000</td>\n",
              "      <td>0.000000</td>\n",
              "      <td>3.000000</td>\n",
              "      <td>2.000000</td>\n",
              "      <td>3.000000</td>\n",
              "      <td>0.000000</td>\n",
              "      <td>1.000000</td>\n",
              "      <td>10.000000</td>\n",
              "      <td>6.000000</td>\n",
              "      <td>8.000000</td>\n",
              "    </tr>\n",
              "    <tr>\n",
              "      <th>max</th>\n",
              "      <td>1.000000</td>\n",
              "      <td>1.000000</td>\n",
              "      <td>1.000000</td>\n",
              "      <td>1.000000</td>\n",
              "      <td>98.000000</td>\n",
              "      <td>1.000000</td>\n",
              "      <td>1.000000</td>\n",
              "      <td>1.000000</td>\n",
              "      <td>1.000000</td>\n",
              "      <td>1.000000</td>\n",
              "      <td>...</td>\n",
              "      <td>1.000000</td>\n",
              "      <td>1.000000</td>\n",
              "      <td>5.000000</td>\n",
              "      <td>30.000000</td>\n",
              "      <td>30.000000</td>\n",
              "      <td>1.000000</td>\n",
              "      <td>1.000000</td>\n",
              "      <td>13.000000</td>\n",
              "      <td>6.000000</td>\n",
              "      <td>8.000000</td>\n",
              "    </tr>\n",
              "  </tbody>\n",
              "</table>\n",
              "<p>8 rows × 22 columns</p>\n",
              "</div>\n",
              "    <div class=\"colab-df-buttons\">\n",
              "\n",
              "  <div class=\"colab-df-container\">\n",
              "    <button class=\"colab-df-convert\" onclick=\"convertToInteractive('df-16de5f0b-bea1-466f-b183-e774d97340bb')\"\n",
              "            title=\"Convert this dataframe to an interactive table.\"\n",
              "            style=\"display:none;\">\n",
              "\n",
              "  <svg xmlns=\"http://www.w3.org/2000/svg\" height=\"24px\" viewBox=\"0 -960 960 960\">\n",
              "    <path d=\"M120-120v-720h720v720H120Zm60-500h600v-160H180v160Zm220 220h160v-160H400v160Zm0 220h160v-160H400v160ZM180-400h160v-160H180v160Zm440 0h160v-160H620v160ZM180-180h160v-160H180v160Zm440 0h160v-160H620v160Z\"/>\n",
              "  </svg>\n",
              "    </button>\n",
              "\n",
              "  <style>\n",
              "    .colab-df-container {\n",
              "      display:flex;\n",
              "      gap: 12px;\n",
              "    }\n",
              "\n",
              "    .colab-df-convert {\n",
              "      background-color: #E8F0FE;\n",
              "      border: none;\n",
              "      border-radius: 50%;\n",
              "      cursor: pointer;\n",
              "      display: none;\n",
              "      fill: #1967D2;\n",
              "      height: 32px;\n",
              "      padding: 0 0 0 0;\n",
              "      width: 32px;\n",
              "    }\n",
              "\n",
              "    .colab-df-convert:hover {\n",
              "      background-color: #E2EBFA;\n",
              "      box-shadow: 0px 1px 2px rgba(60, 64, 67, 0.3), 0px 1px 3px 1px rgba(60, 64, 67, 0.15);\n",
              "      fill: #174EA6;\n",
              "    }\n",
              "\n",
              "    .colab-df-buttons div {\n",
              "      margin-bottom: 4px;\n",
              "    }\n",
              "\n",
              "    [theme=dark] .colab-df-convert {\n",
              "      background-color: #3B4455;\n",
              "      fill: #D2E3FC;\n",
              "    }\n",
              "\n",
              "    [theme=dark] .colab-df-convert:hover {\n",
              "      background-color: #434B5C;\n",
              "      box-shadow: 0px 1px 3px 1px rgba(0, 0, 0, 0.15);\n",
              "      filter: drop-shadow(0px 1px 2px rgba(0, 0, 0, 0.3));\n",
              "      fill: #FFFFFF;\n",
              "    }\n",
              "  </style>\n",
              "\n",
              "    <script>\n",
              "      const buttonEl =\n",
              "        document.querySelector('#df-16de5f0b-bea1-466f-b183-e774d97340bb button.colab-df-convert');\n",
              "      buttonEl.style.display =\n",
              "        google.colab.kernel.accessAllowed ? 'block' : 'none';\n",
              "\n",
              "      async function convertToInteractive(key) {\n",
              "        const element = document.querySelector('#df-16de5f0b-bea1-466f-b183-e774d97340bb');\n",
              "        const dataTable =\n",
              "          await google.colab.kernel.invokeFunction('convertToInteractive',\n",
              "                                                    [key], {});\n",
              "        if (!dataTable) return;\n",
              "\n",
              "        const docLinkHtml = 'Like what you see? Visit the ' +\n",
              "          '<a target=\"_blank\" href=https://colab.research.google.com/notebooks/data_table.ipynb>data table notebook</a>'\n",
              "          + ' to learn more about interactive tables.';\n",
              "        element.innerHTML = '';\n",
              "        dataTable['output_type'] = 'display_data';\n",
              "        await google.colab.output.renderOutput(dataTable, element);\n",
              "        const docLink = document.createElement('div');\n",
              "        docLink.innerHTML = docLinkHtml;\n",
              "        element.appendChild(docLink);\n",
              "      }\n",
              "    </script>\n",
              "  </div>\n",
              "\n",
              "\n",
              "<div id=\"df-28891b99-a46d-4ac7-ad65-1495b6334b97\">\n",
              "  <button class=\"colab-df-quickchart\" onclick=\"quickchart('df-28891b99-a46d-4ac7-ad65-1495b6334b97')\"\n",
              "            title=\"Suggest charts.\"\n",
              "            style=\"display:none;\">\n",
              "\n",
              "<svg xmlns=\"http://www.w3.org/2000/svg\" height=\"24px\"viewBox=\"0 0 24 24\"\n",
              "     width=\"24px\">\n",
              "    <g>\n",
              "        <path d=\"M19 3H5c-1.1 0-2 .9-2 2v14c0 1.1.9 2 2 2h14c1.1 0 2-.9 2-2V5c0-1.1-.9-2-2-2zM9 17H7v-7h2v7zm4 0h-2V7h2v10zm4 0h-2v-4h2v4z\"/>\n",
              "    </g>\n",
              "</svg>\n",
              "  </button>\n",
              "\n",
              "<style>\n",
              "  .colab-df-quickchart {\n",
              "    background-color: #E8F0FE;\n",
              "    border: none;\n",
              "    border-radius: 50%;\n",
              "    cursor: pointer;\n",
              "    display: none;\n",
              "    fill: #1967D2;\n",
              "    height: 32px;\n",
              "    padding: 0 0 0 0;\n",
              "    width: 32px;\n",
              "  }\n",
              "\n",
              "  .colab-df-quickchart:hover {\n",
              "    background-color: #E2EBFA;\n",
              "    box-shadow: 0px 1px 2px rgba(60, 64, 67, 0.3), 0px 1px 3px 1px rgba(60, 64, 67, 0.15);\n",
              "    fill: #174EA6;\n",
              "  }\n",
              "\n",
              "  [theme=dark] .colab-df-quickchart {\n",
              "    background-color: #3B4455;\n",
              "    fill: #D2E3FC;\n",
              "  }\n",
              "\n",
              "  [theme=dark] .colab-df-quickchart:hover {\n",
              "    background-color: #434B5C;\n",
              "    box-shadow: 0px 1px 3px 1px rgba(0, 0, 0, 0.15);\n",
              "    filter: drop-shadow(0px 1px 2px rgba(0, 0, 0, 0.3));\n",
              "    fill: #FFFFFF;\n",
              "  }\n",
              "</style>\n",
              "\n",
              "  <script>\n",
              "    async function quickchart(key) {\n",
              "      const charts = await google.colab.kernel.invokeFunction(\n",
              "          'suggestCharts', [key], {});\n",
              "    }\n",
              "    (() => {\n",
              "      let quickchartButtonEl =\n",
              "        document.querySelector('#df-28891b99-a46d-4ac7-ad65-1495b6334b97 button');\n",
              "      quickchartButtonEl.style.display =\n",
              "        google.colab.kernel.accessAllowed ? 'block' : 'none';\n",
              "    })();\n",
              "  </script>\n",
              "</div>\n",
              "    </div>\n",
              "  </div>\n"
            ]
          },
          "metadata": {},
          "execution_count": 6
        }
      ],
      "source": [
        "data.describe()"
      ]
    },
    {
      "cell_type": "code",
      "execution_count": 7,
      "metadata": {
        "colab": {
          "base_uri": "https://localhost:8080/"
        },
        "id": "k3NcFpBmjYLy",
        "outputId": "ccd7fa5c-efd0-4d99-fdea-74b06fcfe939"
      },
      "outputs": [
        {
          "output_type": "execute_result",
          "data": {
            "text/plain": [
              "Diabetes_Status         0\n",
              "HighBP                  0\n",
              "HighChol                0\n",
              "CholCheck               0\n",
              "BMI                     0\n",
              "Smoker                  0\n",
              "Stroke                  0\n",
              "HeartDiseaseorAttack    0\n",
              "PhysActivity            0\n",
              "Fruits                  0\n",
              "Veggies                 0\n",
              "HvyAlcoholConsump       0\n",
              "AnyHealthcare           0\n",
              "NoDocbcCost             0\n",
              "GenHlth                 0\n",
              "MentHlth                0\n",
              "PhysHlth                0\n",
              "DiffWalk                0\n",
              "Sex                     0\n",
              "Age                     0\n",
              "Education               0\n",
              "Income                  0\n",
              "dtype: int64"
            ]
          },
          "metadata": {},
          "execution_count": 7
        }
      ],
      "source": [
        "data.isna().sum()"
      ]
    },
    {
      "cell_type": "code",
      "execution_count": 8,
      "metadata": {
        "colab": {
          "base_uri": "https://localhost:8080/"
        },
        "id": "fsxWs0_ikuDr",
        "outputId": "8564a22c-c6c2-4a36-8d8f-6a00d5cee496"
      },
      "outputs": [
        {
          "output_type": "execute_result",
          "data": {
            "text/plain": [
              "0    218334\n",
              "1     35346\n",
              "Name: Diabetes_Status, dtype: int64"
            ]
          },
          "metadata": {},
          "execution_count": 8
        }
      ],
      "source": [
        "data['Diabetes_Status'].value_counts()"
      ]
    },
    {
      "cell_type": "markdown",
      "metadata": {
        "id": "UJMH2-068Qul"
      },
      "source": [
        "**Exploratory Data Analysis**"
      ]
    },
    {
      "cell_type": "markdown",
      "metadata": {
        "id": "wW3Y2t2TEjlZ"
      },
      "source": [
        " Univariate Analysis"
      ]
    },
    {
      "cell_type": "code",
      "execution_count": null,
      "metadata": {
        "colab": {
          "base_uri": "https://localhost:8080/",
          "height": 472
        },
        "id": "nrOTR58TwBSc",
        "outputId": "3a324891-5faf-46c0-cf0d-ec33d3c4202f"
      },
      "outputs": [
        {
          "output_type": "display_data",
          "data": {
            "text/plain": [
              "<Figure size 640x480 with 1 Axes>"
            ],
            "image/png": "[encoded data removed]"
          },
          "metadata": {}
        }
      ],
      "source": [
        "# Generate the histogram\n",
        "plt.hist(data['BMI'], bins=10, edgecolor='black')\n",
        "\n",
        "# Set plot labels and title\n",
        "plt.xlabel('Body Mass Index')\n",
        "plt.ylabel('Count')\n",
        "plt.title('Distribution of BMI')\n",
        "\n",
        "# Show the histogram\n",
        "plt.show()"
      ]
    },
    {
      "cell_type": "code",
      "execution_count": null,
      "metadata": {
        "colab": {
          "base_uri": "https://localhost:8080/",
          "height": 472
        },
        "id": "NAJ_jtY4t7rQ",
        "outputId": "586559f0-fe3c-4c88-909c-f8d64428c058"
      },
      "outputs": [
        {
          "output_type": "display_data",
          "data": {
            "text/plain": [
              "<Figure size 640x480 with 1 Axes>"
            ],
            "image/png": "[encoded data removed]"
          },
          "metadata": {}
        }
      ],
      "source": [
        "# Generate the histogram\n",
        "plt.hist(data['Age'], bins=10, edgecolor='black')\n",
        "\n",
        "# Set plot labels and title\n",
        "plt.xlabel('Age')\n",
        "plt.ylabel('Count')\n",
        "plt.title('Distribution of Age')\n",
        "\n",
        "# Show the histogram\n",
        "plt.show()"
      ]
    },
    {
      "cell_type": "code",
      "execution_count": null,
      "metadata": {
        "colab": {
          "base_uri": "https://localhost:8080/",
          "height": 472
        },
        "id": "HfTFg-Jct7xH",
        "outputId": "c97de6fd-00c1-43ab-8756-a5afaf62197d"
      },
      "outputs": [
        {
          "data": {
            "image/png": "[encoded data removed]",
            "text/plain": [
              "<Figure size 640x480 with 1 Axes>"
            ]
          },
          "metadata": {},
          "output_type": "display_data"
        }
      ],
      "source": [
        "# Generate the histogram\n",
        "plt.hist(data['Income'], bins=10, edgecolor='black')\n",
        "\n",
        "# Set plot labels and title\n",
        "plt.xlabel('Income')\n",
        "plt.ylabel('Count')\n",
        "plt.title('Distribution of Income')\n",
        "\n",
        "# Show the histogram\n",
        "plt.show()"
      ]
    },
    {
      "cell_type": "code",
      "execution_count": null,
      "metadata": {
        "id": "1o8Gv3TgEZCu"
      },
      "outputs": [],
      "source": []
    },
    {
      "cell_type": "code",
      "execution_count": null,
      "metadata": {
        "colab": {
          "base_uri": "https://localhost:8080/",
          "height": 431
        },
        "id": "JLzrXGaF4V6Z",
        "outputId": "c216b813-1b70-48b8-e6d6-f4113f352652"
      },
      "outputs": [
        {
          "output_type": "display_data",
          "data": {
            "text/plain": [
              "<Figure size 640x480 with 1 Axes>"
            ],
            "image/png": "[encoded data removed]"
          },
          "metadata": {}
        }
      ],
      "source": [
        "# Count the occurrences of each category\n",
        "category_counts = data['HighBP'].value_counts()\n",
        "\n",
        "# Create a pie chart\n",
        "plt.pie(category_counts, labels=category_counts.index, autopct='%1.1f%%', colors=['purple', 'grey'])\n",
        "\n",
        "# Add legend\n",
        "legend_labels = ['0 - Normal BP', '1 - High BP']\n",
        "plt.legend(legend_labels, loc='best')\n",
        "\n",
        "# Set title and aspect ratio\n",
        "plt.title('Distribution of highBP Categories')\n",
        "plt.axis('equal')\n",
        "\n",
        "# Display the chart\n",
        "plt.show()\n"
      ]
    },
    {
      "cell_type": "code",
      "execution_count": null,
      "metadata": {
        "colab": {
          "base_uri": "https://localhost:8080/",
          "height": 432
        },
        "id": "tSiYnBeK4WAz",
        "outputId": "06d34caf-f2b9-4556-b5fc-79e065a1cceb"
      },
      "outputs": [
        {
          "output_type": "display_data",
          "data": {
            "text/plain": [
              "<Figure size 640x480 with 1 Axes>"
            ],
            "image/png": "[encoded data removed]"
          },
          "metadata": {}
        }
      ],
      "source": [
        "# Count the occurrences of each category\n",
        "category_counts = data['Smoker'].value_counts()\n",
        "\n",
        "# Create a pie chart\n",
        "plt.pie(category_counts, labels=category_counts.index, autopct='%1.1f%%', colors=['purple', 'grey'])\n",
        "\n",
        "# Add legend\n",
        "legend_labels = ['0 - Non-Smoker', '1 - Smoker']\n",
        "plt.legend(legend_labels, loc='best')\n",
        "\n",
        "# Set title and aspect ratio\n",
        "plt.title('Distribution of smoking  vs non-smoking patients')\n",
        "plt.axis('equal')\n",
        "\n",
        "# Display the chart\n",
        "plt.show()"
      ]
    },
    {
      "cell_type": "markdown",
      "metadata": {
        "id": "aCTkqqUnEauh"
      },
      "source": [
        " Bivariate Analysis"
      ]
    },
    {
      "cell_type": "code",
      "source": [
        "import matplotlib.pyplot as plt\n",
        "\n",
        "# Map sex values to more understandable labels\n",
        "data['Sex'] = data['Sex'].replace({'0': 'Female', '1': 'Male'})\n",
        "\n",
        "plt.figure(figsize=(5, 4))\n",
        "ax = data.groupby(['Diabetes_Status', 'Sex'])['BMI'].mean().unstack().plot(kind='bar')\n",
        "plt.title('Average BMI of Diabetic and Non-Diabetic Patients by Gender')\n",
        "plt.xlabel('Diabetes Status')\n",
        "plt.ylabel('BMI')\n",
        "plt.xticks(rotation=0)\n",
        "\n",
        "# Create a custom legend\n",
        "handles, labels = ax.get_legend_handles_labels()\n",
        "custom_labels = {'0': 'Female', '1': 'Male'}\n",
        "new_labels = [custom_labels[label] for label in labels]\n",
        "ax.legend(handles, new_labels, title='Sex')\n",
        "\n",
        "plt.show()\n"
      ],
      "metadata": {
        "colab": {
          "base_uri": "https://localhost:8080/",
          "height": 489
        },
        "id": "jP6rs5odIO6w",
        "outputId": "abb413d7-0343-4e4b-d3ef-6e3af6f16b4d"
      },
      "execution_count": null,
      "outputs": [
        {
          "output_type": "display_data",
          "data": {
            "text/plain": [
              "<Figure size 500x400 with 0 Axes>"
            ]
          },
          "metadata": {}
        },
        {
          "output_type": "display_data",
          "data": {
            "text/plain": [
              "<Figure size 640x480 with 1 Axes>"
            ],
            "image/png": "[encoded data removed]"
          },
          "metadata": {}
        }
      ]
    },
    {
      "cell_type": "code",
      "execution_count": null,
      "metadata": {
        "colab": {
          "base_uri": "https://localhost:8080/",
          "height": 472
        },
        "id": "JFiUl4cKETlX",
        "outputId": "18634765-f36f-4d69-dd38-3e3d9a8aae06"
      },
      "outputs": [
        {
          "data": {
            "image/png": "[encoded data removed]",
            "text/plain": [
              "<Figure size 640x480 with 1 Axes>"
            ]
          },
          "metadata": {},
          "output_type": "display_data"
        }
      ],
      "source": [
        "# Class distribution\n",
        "sns.countplot(x='Diabetes_Status', data=data)\n",
        "plt.title('Diabetes Status Distribution')\n",
        "plt.show()"
      ]
    },
    {
      "cell_type": "markdown",
      "metadata": {
        "id": "NPMi17KXGP87"
      },
      "source": [
        "Multivariant Analysis"
      ]
    },
    {
      "cell_type": "code",
      "execution_count": null,
      "metadata": {
        "colab": {
          "base_uri": "https://localhost:8080/",
          "height": 472
        },
        "id": "9JEnpw-oPc4E",
        "outputId": "ee5b7e27-e21e-4b22-d99a-07d762a4ffb2"
      },
      "outputs": [
        {
          "data": {
            "image/png": "[encoded data removed]",
            "text/plain": [
              "<Figure size 640x480 with 1 Axes>"
            ]
          },
          "metadata": {},
          "output_type": "display_data"
        }
      ],
      "source": [
        "# Create the KDE plot\n",
        "sns.kdeplot(data=data, x='BMI', hue='Diabetes_Status')\n",
        "\n",
        "# Add labels and a title\n",
        "plt.xlabel('BMI')\n",
        "plt.title('KDE Plot of BMI with Diabetes Status')\n",
        "\n",
        "# Show the plot\n",
        "plt.show()"
      ]
    },
    {
      "cell_type": "markdown",
      "metadata": {
        "id": "lriwcpCR8E4V"
      },
      "source": [
        "**Handling Outliers**"
      ]
    },
    {
      "cell_type": "code",
      "execution_count": 9,
      "metadata": {
        "colab": {
          "base_uri": "https://localhost:8080/",
          "height": 472
        },
        "id": "7IdbAz8G4WFq",
        "outputId": "fd9fdb1d-28b7-46af-f75a-0f9085711fc7"
      },
      "outputs": [
        {
          "output_type": "display_data",
          "data": {
            "text/plain": [
              "<Figure size 640x480 with 1 Axes>"
            ],
            "image/png": "[encoded data removed]"
          },
          "metadata": {}
        }
      ],
      "source": [
        "# Create a boxplot\n",
        "sns.boxplot(x='Diabetes_Status', y='BMI', data=data, palette=['blue', 'orange'])\n",
        "plt.title('BMI Distribution by Diabetes_Status')\n",
        "plt.xlabel('Diabetes_Status')\n",
        "plt.ylabel('BMI')\n",
        "\n",
        "# Display the plot\n",
        "plt.show()\n"
      ]
    },
    {
      "cell_type": "code",
      "execution_count": 10,
      "metadata": {
        "id": "sgw396Ab-WFU"
      },
      "outputs": [],
      "source": [
        "\n",
        "# Replace values in the 'BMI' column with mean value of 28.4 where 'Diabetes_Status' is equal to 0 and 'BMI' is greater than 39\n",
        "data.loc[(data[\"Diabetes_Status\"] == 0) & (data[\"BMI\"] > 39), 'BMI'] = 28.4\n",
        "\n",
        "# Replace values in the 'BMI' column with mean value of 28.4 where 'Diabetes_Status' is equal to 0 and 'BMI' is less than 10\n",
        "data.loc[(data[\"Diabetes_Status\"] == 0) & (data[\"BMI\"] < 15), 'BMI'] = 28.4\n",
        "\n",
        "# Replace values in the 'BMI' column with mean value of 28.4 where 'Diabetes_Status' is equal to 0 and 'BMI' is greater than 43\n",
        "data.loc[(data[\"Diabetes_Status\"] == 1) & (data[\"BMI\"] > 43), 'BMI'] = 28.4\n",
        "\n",
        "# Replace values in the 'BMI' column with mean value of 28.4 where 'Diabetes_Status' is equal to 0 and 'BMI' is less than 17\n",
        "data.loc[(data[\"Diabetes_Status\"] == 1) & (data[\"BMI\"] < 17), 'BMI'] = 28.4\n"
      ]
    },
    {
      "cell_type": "code",
      "execution_count": 11,
      "metadata": {
        "colab": {
          "base_uri": "https://localhost:8080/",
          "height": 472
        },
        "id": "M_CBJiYdvYWt",
        "outputId": "201966e3-001c-4ce8-a91f-c2c38c95091e"
      },
      "outputs": [
        {
          "output_type": "display_data",
          "data": {
            "text/plain": [
              "<Figure size 640x480 with 1 Axes>"
            ],
            "image/png": "[encoded data removed]"
          },
          "metadata": {}
        }
      ],
      "source": [
        "# Create a boxplot\n",
        "sns.boxplot(x='Diabetes_Status', y='BMI', data=data, palette=['blue', 'orange'])\n",
        "plt.title('BMI Distribution by Diabetes_Status')\n",
        "plt.xlabel('Diabetes_Status')\n",
        "plt.ylabel('BMI')\n",
        "\n",
        "# Display the plot\n",
        "plt.show()\n"
      ]
    },
    {
      "cell_type": "code",
      "execution_count": 12,
      "metadata": {
        "colab": {
          "base_uri": "https://localhost:8080/",
          "height": 472
        },
        "id": "YC5HzOxV-WH8",
        "outputId": "a6037cc3-9d73-467c-cfc9-50bd00d70b91"
      },
      "outputs": [
        {
          "output_type": "display_data",
          "data": {
            "text/plain": [
              "<Figure size 640x480 with 1 Axes>"
            ],
            "image/png": "[encoded data removed]"
          },
          "metadata": {}
        }
      ],
      "source": [
        "# Create a boxplot\n",
        "sns.boxplot(x='Diabetes_Status', y='GenHlth', data=data, palette=['blue', 'orange'])\n",
        "plt.title('GenHlth Distribution by Diabetes_Status')\n",
        "plt.xlabel('Diabetes_Status')\n",
        "plt.ylabel('GenHlth')\n",
        "\n",
        "# Display the plot\n",
        "plt.show()"
      ]
    },
    {
      "cell_type": "code",
      "execution_count": 13,
      "metadata": {
        "id": "Lkd340a5b-Qf"
      },
      "outputs": [],
      "source": [
        "# Replace values in the 'GenHlth' column with mean value of 2.5 where 'Diabetes_Status' is equal to 0 and 'GenHlth' is greater than 4\n",
        "data.loc[(data[\"Diabetes_Status\"] == 0) & (data[\"GenHlth\"] > 4), 'GenHlth'] = 2.5\n",
        "\n",
        "# Replace values in the 'GenHlth' column with mean value of 2.5 where 'Diabetes_Status' is equal to 0 and 'GenHlth' is less than 1.5\n",
        "data.loc[(data[\"Diabetes_Status\"] == 1) & (data[\"GenHlth\"] < 1.5), 'GenHlth'] = 2.5"
      ]
    },
    {
      "cell_type": "code",
      "execution_count": 14,
      "metadata": {
        "colab": {
          "base_uri": "https://localhost:8080/",
          "height": 472
        },
        "id": "Gs3E6dK_-WLE",
        "outputId": "920e65ec-89fb-4213-f84b-f70707a03c9a"
      },
      "outputs": [
        {
          "output_type": "display_data",
          "data": {
            "text/plain": [
              "<Figure size 640x480 with 1 Axes>"
            ],
            "image/png": "[encoded data removed]"
          },
          "metadata": {}
        }
      ],
      "source": [
        "# Create a boxplot\n",
        "sns.boxplot(x='Diabetes_Status', y='MentHlth', data=data, palette=['blue', 'orange'])\n",
        "plt.title('MentHlth Distribution by Diabetes_Status')\n",
        "plt.xlabel('Diabetes_Status')\n",
        "plt.ylabel('MentHlth')\n",
        "\n",
        "# Display the plot\n",
        "plt.show()"
      ]
    },
    {
      "cell_type": "code",
      "execution_count": 15,
      "metadata": {
        "id": "7FJOyh4KFyQG"
      },
      "outputs": [],
      "source": [
        "# Replace values in the 'MentHlth' column with mean value of 3.2 where 'Diabetes_Status' is equal to 0 and 'MentHlth' is greater than 4\n",
        "data.loc[(data[\"Diabetes_Status\"] == 0) & (data[\"MentHlth\"] > 5), 'MentHlth'] = 3.2\n",
        "\n",
        "# Replace values in the 'MentHlth' column with mean value of 3.2 where 'Diabetes_Status' is equal to 1 and 'MentHlth' is greater than 6\n",
        "data.loc[(data[\"Diabetes_Status\"] == 1) & (data[\"MentHlth\"] > 6), 'MentHlth'] = 3.2"
      ]
    },
    {
      "cell_type": "code",
      "execution_count": 16,
      "metadata": {
        "colab": {
          "base_uri": "https://localhost:8080/",
          "height": 472
        },
        "id": "Ips8S4VbFyTA",
        "outputId": "5b89ff2e-6379-4fff-9365-ee1dd1c31eb9"
      },
      "outputs": [
        {
          "output_type": "display_data",
          "data": {
            "text/plain": [
              "<Figure size 640x480 with 1 Axes>"
            ],
            "image/png": "[encoded data removed]"
          },
          "metadata": {}
        }
      ],
      "source": [
        "# Create a boxplot\n",
        "sns.boxplot(x='Diabetes_Status', y='PhysHlth', data=data, palette=['blue', 'orange'])\n",
        "plt.title('PhysHlth Distribution by Diabetes_Status')\n",
        "plt.xlabel('Diabetes_Status')\n",
        "plt.ylabel('PhysHlth')\n",
        "\n",
        "# Display the plot\n",
        "plt.show()"
      ]
    },
    {
      "cell_type": "code",
      "execution_count": 17,
      "metadata": {
        "id": "cYqaGDWRfzUl"
      },
      "outputs": [],
      "source": [
        "# Replace values in the 'PhysHlth' column with mean value of 4.4 where 'Diabetes_Status' is equal to 0 and 'PhysHlth' is greater than 5\n",
        "data.loc[(data[\"Diabetes_Status\"] == 0) & (data[\"PhysHlth\"] > 5), 'PhysHlth'] = 4.4\n",
        "\n"
      ]
    },
    {
      "cell_type": "code",
      "execution_count": 18,
      "metadata": {
        "colab": {
          "base_uri": "https://localhost:8080/",
          "height": 472
        },
        "id": "fy40XHLefzdE",
        "outputId": "7c27a816-d04c-4c6d-83e0-eac19cb20237"
      },
      "outputs": [
        {
          "output_type": "display_data",
          "data": {
            "text/plain": [
              "<Figure size 640x480 with 1 Axes>"
            ],
            "image/png": "[encoded data removed]"
          },
          "metadata": {}
        }
      ],
      "source": [
        "# Create a boxplot\n",
        "sns.boxplot(x='Diabetes_Status', y='Age', data=data, palette=['blue', 'orange'])\n",
        "plt.title('Age Distribution by Diabetes_Status')\n",
        "plt.xlabel('Diabetes_Status')\n",
        "plt.ylabel('Age')\n",
        "\n",
        "# Display the plot\n",
        "plt.show()"
      ]
    },
    {
      "cell_type": "code",
      "execution_count": 19,
      "metadata": {
        "id": "GDDGkq89fzhE"
      },
      "outputs": [],
      "source": [
        "# Replace values in the 'Age' column with mean value of 8 where 'Diabetes_Status' is equal to 1 and 'Age' is less than 4\n",
        "data.loc[(data[\"Diabetes_Status\"] == 1) & (data[\"Age\"] < 4), 'Age'] = 8"
      ]
    },
    {
      "cell_type": "code",
      "execution_count": 20,
      "metadata": {
        "colab": {
          "base_uri": "https://localhost:8080/",
          "height": 472
        },
        "id": "s6FOHfMjfzj4",
        "outputId": "e388ea6f-b85c-4629-cac7-daf5ad55f041"
      },
      "outputs": [
        {
          "output_type": "display_data",
          "data": {
            "text/plain": [
              "<Figure size 640x480 with 1 Axes>"
            ],
            "image/png": "[encoded data removed]"
          },
          "metadata": {}
        }
      ],
      "source": [
        "# Create a boxplot\n",
        "sns.boxplot(x='Diabetes_Status', y='Education', data=data, palette=['blue', 'orange'])\n",
        "plt.title('Education Distribution by Diabetes_Status')\n",
        "plt.xlabel('Diabetes_Status')\n",
        "plt.ylabel('Education')\n",
        "\n",
        "# Display the plot\n",
        "plt.show()"
      ]
    },
    {
      "cell_type": "code",
      "execution_count": 21,
      "metadata": {
        "colab": {
          "base_uri": "https://localhost:8080/",
          "height": 472
        },
        "id": "_BxXYR6lfzm_",
        "outputId": "f2808532-80b6-4553-c42a-cfa7a771840d"
      },
      "outputs": [
        {
          "output_type": "display_data",
          "data": {
            "text/plain": [
              "<Figure size 640x480 with 1 Axes>"
            ],
            "image/png": "[encoded data removed]"
          },
          "metadata": {}
        }
      ],
      "source": [
        "# Create a boxplot\n",
        "sns.boxplot(x='Diabetes_Status', y='Income', data=data, palette=['blue', 'orange'])\n",
        "plt.title('Income Distribution by Diabetes_Status')\n",
        "plt.xlabel('Diabetes_Status')\n",
        "plt.ylabel('Income')\n",
        "\n",
        "# Display the plot\n",
        "plt.show()"
      ]
    },
    {
      "cell_type": "code",
      "execution_count": null,
      "metadata": {
        "id": "Ea8aVjt5fzqs"
      },
      "outputs": [],
      "source": []
    },
    {
      "cell_type": "code",
      "execution_count": 35,
      "metadata": {
        "id": "UghKM5jayxzd"
      },
      "outputs": [],
      "source": [
        "#del new_data"
      ]
    },
    {
      "cell_type": "code",
      "execution_count": 36,
      "metadata": {
        "id": "h58wqxonfz3l"
      },
      "outputs": [],
      "source": [
        "# Create a copy of the original dataset\n",
        "new_data = data.copy()"
      ]
    },
    {
      "cell_type": "markdown",
      "metadata": {
        "id": "n4rI-DULsBen"
      },
      "source": [
        "Feature Selection"
      ]
    },
    {
      "cell_type": "code",
      "execution_count": 37,
      "metadata": {
        "id": "BVHxPLjN4wdg"
      },
      "outputs": [],
      "source": [
        "y = new_data.Diabetes_Status\n",
        "x = new_data.drop([\"Diabetes_Status\"],axis = 1)\n",
        "columns = x.columns.tolist()"
      ]
    },
    {
      "cell_type": "code",
      "execution_count": null,
      "metadata": {
        "colab": {
          "base_uri": "https://localhost:8080/"
        },
        "id": "6d2vps60yuZu",
        "outputId": "f4b2f60c-7330-43a8-8e89-d2ccea373918"
      },
      "outputs": [
        {
          "name": "stdout",
          "output_type": "stream",
          "text": [
            "\n",
            "Class distribution after oversampling:\n",
            "0    218334\n",
            "1    218334\n",
            "Name: Diabetes_Status, dtype: int64\n"
          ]
        }
      ],
      "source": [
        "# Apply SMOTE for oversampling\n",
        "smote = SMOTE(sampling_strategy='auto', random_state=42)\n",
        "X_resampled, y_resampled = smote.fit_resample(x, y)\n",
        "\n",
        "# Display the class distribution after oversampling\n",
        "print(\"\\nClass distribution after oversampling:\")\n",
        "print(pd.Series(y_resampled).value_counts())"
      ]
    },
    {
      "cell_type": "code",
      "execution_count": null,
      "metadata": {
        "id": "azvk1SgluZMW"
      },
      "outputs": [],
      "source": [
        "# Normalize the features\n",
        "#from sklearn.preprocessing import MinMaxScaler\n",
        "#scaler = MinMaxScaler()\n",
        "#X_normalized = scaler.fit_transform(X_resampled)"
      ]
    },
    {
      "cell_type": "code",
      "execution_count": null,
      "metadata": {
        "colab": {
          "base_uri": "https://localhost:8080/"
        },
        "id": "7tdUnAiRSRb8",
        "outputId": "6f87b489-8a1a-43df-e2bd-27ccd0475493"
      },
      "outputs": [
        {
          "name": "stdout",
          "output_type": "stream",
          "text": [
            "Ranked features:\n",
            "             Feature    Score  Rank\n",
            "                 Sex 0.460332    13\n",
            "        PhysActivity 0.484130    15\n",
            "                 Age 0.511645     6\n",
            "           Education 0.514809    10\n",
            "            DiffWalk 0.520121    18\n",
            "   HvyAlcoholConsump 0.521880     9\n",
            "            MentHlth 0.545524     5\n",
            "              Stroke 0.546885    12\n",
            "       AnyHealthcare 0.559118    11\n",
            "           CholCheck 0.561275     3\n",
            "             GenHlth 0.577448     8\n",
            "              Fruits 0.585213    20\n",
            "              Income 0.591970     7\n",
            "         NoDocbcCost 0.606799    16\n",
            "                 BMI 0.610374    21\n",
            "             Veggies 0.631982    19\n",
            "            PhysHlth 0.640039    17\n",
            "HeartDiseaseorAttack 0.648957     4\n",
            "            HighChol 0.653584     2\n",
            "              Smoker 0.696132     1\n",
            "              HighBP 0.727568    14\n"
          ]
        }
      ],
      "source": [
        "\n",
        "\n",
        "# Assuming you have your data loaded in X and y\n",
        "# And the feature names are given as a list\n",
        "feature_names = ['HighChol', 'CholCheck', 'Stroke', 'HeartDiseaseorAttack', 'PhysActivity', 'Veggies',\n",
        "                 'HvyAlcoholConsump', 'AnyHealthcare', 'NoDocbcCost', 'DiffWalk', 'Sex', 'HighBP',\n",
        "                 'BMI', 'Smoker', 'Fruits', 'GenHlth', 'MentHlth', 'PhysHlth', 'Age', 'Education', 'Income']\n",
        "\n",
        "# Normalize the features\n",
        "scaler = MinMaxScaler()\n",
        "X_normalized = scaler.fit_transform(X_resampled)\n",
        "\n",
        "# Define the evaluation criteria and corresponding weights\n",
        "weights = [0.4, 0.3,0.3]\n",
        "\n",
        "# Define the classifier\n",
        "classifier = LogisticRegression()\n",
        "\n",
        "# Calculate the evaluation scores (accuracy, precision, recall) using cross-validation\n",
        "def evaluate_features(X, y_resampled, classifier):\n",
        "    scores = []\n",
        "    scoring = ['roc_auc', 'precision','f1']\n",
        "\n",
        "    for feature in range(X.shape[1]):\n",
        "        X_feature = X[:, feature].reshape(-1, 1)\n",
        "        score = [np.mean(cross_val_score(classifier, X_feature, y_resampled, cv=5, scoring=scoring[i])) for i in range(len(scoring))]\n",
        "        scores.append(score)\n",
        "\n",
        "    return np.array(scores)\n",
        "\n",
        "# Split the data into training and testing sets\n",
        "X_train, X_test, Y_train, Y_test = train_test_split(X_normalized, y_resampled, test_size=0.3, random_state=42)\n",
        "X_train, X_test, Y_train, Y_test = train_test_split(X_normalized, y_resampled, test_size=0.3, random_state=42)\n",
        "\n",
        "# Calculate the evaluation scores for each feature on the training set\n",
        "evaluation_scores_train = evaluate_features(X_train, Y_train, classifier)\n",
        "\n",
        "# Calculate the weighted sum for each feature\n",
        "weighted_sums_train = np.dot(evaluation_scores_train, weights)\n",
        "\n",
        "# Sort the features based on the weighted sum\n",
        "ranked_features_indices = np.argsort(weighted_sums_train)[::-1]\n",
        "ranked_features = [feature_names[idx] for idx in ranked_features_indices]\n",
        "ranks = np.arange(1, len(ranked_features) + 1)\n",
        "\n",
        "# Create a DataFrame to store the ranked features and their corresponding scores\n",
        "ranked_features_df = pd.DataFrame({'Feature': ranked_features, 'Score': weighted_sums_train, 'Rank': ranks})\n",
        "#ranked_features_df = pd.DataFrame({'Feature': ranked_features, 'Rank': ranks})\n",
        "\n",
        "# Sort the DataFrame based on the Rank column in descending order\n",
        "ranked_features_df = ranked_features_df.sort_values(by='Score', ascending=True)\n",
        "\n",
        "# Display the ranked features with their corresponding scores and ranks\n",
        "print(\"Ranked features:\")\n",
        "print(ranked_features_df.to_string(index=False))\n",
        "\n"
      ]
    },
    {
      "cell_type": "code",
      "execution_count": null,
      "metadata": {
        "id": "5wgTKT2f4MGc"
      },
      "outputs": [],
      "source": [
        "#del new_data1"
      ]
    },
    {
      "cell_type": "code",
      "execution_count": 40,
      "metadata": {
        "id": "0MP4szSz1sVU"
      },
      "outputs": [],
      "source": [
        "# Create a new DataFrame with the output\n",
        "new_data1 = new_data.copy()"
      ]
    },
    {
      "cell_type": "code",
      "execution_count": 41,
      "metadata": {
        "id": "3nUu-8QqshzX"
      },
      "outputs": [],
      "source": [
        "# Drop columns from the DataFrame\n",
        "columns_to_drop = ['Sex','PhysActivity','Age','Education','DiffWalk','HvyAlcoholConsump']\n",
        "#columns_to_drop = ['Income','PhysActivity','Education','MentHlth','GenHlth','PhysHlth','AnyHealthcare','NoDocbcCost','HvyAlcoholConsump','Fruits','DiffWalk','Veggies','BMI']\n",
        "new_data1 = new_data1.drop(columns=columns_to_drop, axis=1)"
      ]
    },
    {
      "cell_type": "code",
      "execution_count": 42,
      "metadata": {
        "id": "Js_WyHdo4mf1",
        "outputId": "b428f0e1-b102-4336-f887-f896f48ac336",
        "colab": {
          "base_uri": "https://localhost:8080/",
          "height": 206
        }
      },
      "outputs": [
        {
          "output_type": "execute_result",
          "data": {
            "text/plain": [
              "   Diabetes_Status  HighBP  HighChol  CholCheck   BMI  Smoker  Stroke  \\\n",
              "0                0       1         1          1  28.4       1       0   \n",
              "1                0       0         0          0  25.0       1       0   \n",
              "2                0       1         1          1  28.0       0       0   \n",
              "3                0       1         0          1  27.0       0       0   \n",
              "4                0       1         1          1  24.0       0       0   \n",
              "\n",
              "   HeartDiseaseorAttack  Fruits  Veggies  AnyHealthcare  NoDocbcCost  GenHlth  \\\n",
              "0                     0       0        1              1            0      2.5   \n",
              "1                     0       0        0              0            1      3.0   \n",
              "2                     0       1        0              1            1      2.5   \n",
              "3                     0       1        1              1            0      2.0   \n",
              "4                     0       1        1              1            0      2.0   \n",
              "\n",
              "   MentHlth  PhysHlth  Income  \n",
              "0       3.2       4.4       3  \n",
              "1       0.0       0.0       1  \n",
              "2       3.2       4.4       8  \n",
              "3       0.0       0.0       6  \n",
              "4       3.0       0.0       4  "
            ],
            "text/html": [
              "\n",
              "  <div id=\"df-f7161abc-0f40-4e74-a6dd-bcca8d07ad67\" class=\"colab-df-container\">\n",
              "    <div>\n",
              "<style scoped>\n",
              "    .dataframe tbody tr th:only-of-type {\n",
              "        vertical-align: middle;\n",
              "    }\n",
              "\n",
              "    .dataframe tbody tr th {\n",
              "        vertical-align: top;\n",
              "    }\n",
              "\n",
              "    .dataframe thead th {\n",
              "        text-align: right;\n",
              "    }\n",
              "</style>\n",
              "<table border=\"1\" class=\"dataframe\">\n",
              "  <thead>\n",
              "    <tr style=\"text-align: right;\">\n",
              "      <th></th>\n",
              "      <th>Diabetes_Status</th>\n",
              "      <th>HighBP</th>\n",
              "      <th>HighChol</th>\n",
              "      <th>CholCheck</th>\n",
              "      <th>BMI</th>\n",
              "      <th>Smoker</th>\n",
              "      <th>Stroke</th>\n",
              "      <th>HeartDiseaseorAttack</th>\n",
              "      <th>Fruits</th>\n",
              "      <th>Veggies</th>\n",
              "      <th>AnyHealthcare</th>\n",
              "      <th>NoDocbcCost</th>\n",
              "      <th>GenHlth</th>\n",
              "      <th>MentHlth</th>\n",
              "      <th>PhysHlth</th>\n",
              "      <th>Income</th>\n",
              "    </tr>\n",
              "  </thead>\n",
              "  <tbody>\n",
              "    <tr>\n",
              "      <th>0</th>\n",
              "      <td>0</td>\n",
              "      <td>1</td>\n",
              "      <td>1</td>\n",
              "      <td>1</td>\n",
              "      <td>28.4</td>\n",
              "      <td>1</td>\n",
              "      <td>0</td>\n",
              "      <td>0</td>\n",
              "      <td>0</td>\n",
              "      <td>1</td>\n",
              "      <td>1</td>\n",
              "      <td>0</td>\n",
              "      <td>2.5</td>\n",
              "      <td>3.2</td>\n",
              "      <td>4.4</td>\n",
              "      <td>3</td>\n",
              "    </tr>\n",
              "    <tr>\n",
              "      <th>1</th>\n",
              "      <td>0</td>\n",
              "      <td>0</td>\n",
              "      <td>0</td>\n",
              "      <td>0</td>\n",
              "      <td>25.0</td>\n",
              "      <td>1</td>\n",
              "      <td>0</td>\n",
              "      <td>0</td>\n",
              "      <td>0</td>\n",
              "      <td>0</td>\n",
              "      <td>0</td>\n",
              "      <td>1</td>\n",
              "      <td>3.0</td>\n",
              "      <td>0.0</td>\n",
              "      <td>0.0</td>\n",
              "      <td>1</td>\n",
              "    </tr>\n",
              "    <tr>\n",
              "      <th>2</th>\n",
              "      <td>0</td>\n",
              "      <td>1</td>\n",
              "      <td>1</td>\n",
              "      <td>1</td>\n",
              "      <td>28.0</td>\n",
              "      <td>0</td>\n",
              "      <td>0</td>\n",
              "      <td>0</td>\n",
              "      <td>1</td>\n",
              "      <td>0</td>\n",
              "      <td>1</td>\n",
              "      <td>1</td>\n",
              "      <td>2.5</td>\n",
              "      <td>3.2</td>\n",
              "      <td>4.4</td>\n",
              "      <td>8</td>\n",
              "    </tr>\n",
              "    <tr>\n",
              "      <th>3</th>\n",
              "      <td>0</td>\n",
              "      <td>1</td>\n",
              "      <td>0</td>\n",
              "      <td>1</td>\n",
              "      <td>27.0</td>\n",
              "      <td>0</td>\n",
              "      <td>0</td>\n",
              "      <td>0</td>\n",
              "      <td>1</td>\n",
              "      <td>1</td>\n",
              "      <td>1</td>\n",
              "      <td>0</td>\n",
              "      <td>2.0</td>\n",
              "      <td>0.0</td>\n",
              "      <td>0.0</td>\n",
              "      <td>6</td>\n",
              "    </tr>\n",
              "    <tr>\n",
              "      <th>4</th>\n",
              "      <td>0</td>\n",
              "      <td>1</td>\n",
              "      <td>1</td>\n",
              "      <td>1</td>\n",
              "      <td>24.0</td>\n",
              "      <td>0</td>\n",
              "      <td>0</td>\n",
              "      <td>0</td>\n",
              "      <td>1</td>\n",
              "      <td>1</td>\n",
              "      <td>1</td>\n",
              "      <td>0</td>\n",
              "      <td>2.0</td>\n",
              "      <td>3.0</td>\n",
              "      <td>0.0</td>\n",
              "      <td>4</td>\n",
              "    </tr>\n",
              "  </tbody>\n",
              "</table>\n",
              "</div>\n",
              "    <div class=\"colab-df-buttons\">\n",
              "\n",
              "  <div class=\"colab-df-container\">\n",
              "    <button class=\"colab-df-convert\" onclick=\"convertToInteractive('df-f7161abc-0f40-4e74-a6dd-bcca8d07ad67')\"\n",
              "            title=\"Convert this dataframe to an interactive table.\"\n",
              "            style=\"display:none;\">\n",
              "\n",
              "  <svg xmlns=\"http://www.w3.org/2000/svg\" height=\"24px\" viewBox=\"0 -960 960 960\">\n",
              "    <path d=\"M120-120v-720h720v720H120Zm60-500h600v-160H180v160Zm220 220h160v-160H400v160Zm0 220h160v-160H400v160ZM180-400h160v-160H180v160Zm440 0h160v-160H620v160ZM180-180h160v-160H180v160Zm440 0h160v-160H620v160Z\"/>\n",
              "  </svg>\n",
              "    </button>\n",
              "\n",
              "  <style>\n",
              "    .colab-df-container {\n",
              "      display:flex;\n",
              "      gap: 12px;\n",
              "    }\n",
              "\n",
              "    .colab-df-convert {\n",
              "      background-color: #E8F0FE;\n",
              "      border: none;\n",
              "      border-radius: 50%;\n",
              "      cursor: pointer;\n",
              "      display: none;\n",
              "      fill: #1967D2;\n",
              "      height: 32px;\n",
              "      padding: 0 0 0 0;\n",
              "      width: 32px;\n",
              "    }\n",
              "\n",
              "    .colab-df-convert:hover {\n",
              "      background-color: #E2EBFA;\n",
              "      box-shadow: 0px 1px 2px rgba(60, 64, 67, 0.3), 0px 1px 3px 1px rgba(60, 64, 67, 0.15);\n",
              "      fill: #174EA6;\n",
              "    }\n",
              "\n",
              "    .colab-df-buttons div {\n",
              "      margin-bottom: 4px;\n",
              "    }\n",
              "\n",
              "    [theme=dark] .colab-df-convert {\n",
              "      background-color: #3B4455;\n",
              "      fill: #D2E3FC;\n",
              "    }\n",
              "\n",
              "    [theme=dark] .colab-df-convert:hover {\n",
              "      background-color: #434B5C;\n",
              "      box-shadow: 0px 1px 3px 1px rgba(0, 0, 0, 0.15);\n",
              "      filter: drop-shadow(0px 1px 2px rgba(0, 0, 0, 0.3));\n",
              "      fill: #FFFFFF;\n",
              "    }\n",
              "  </style>\n",
              "\n",
              "    <script>\n",
              "      const buttonEl =\n",
              "        document.querySelector('#df-f7161abc-0f40-4e74-a6dd-bcca8d07ad67 button.colab-df-convert');\n",
              "      buttonEl.style.display =\n",
              "        google.colab.kernel.accessAllowed ? 'block' : 'none';\n",
              "\n",
              "      async function convertToInteractive(key) {\n",
              "        const element = document.querySelector('#df-f7161abc-0f40-4e74-a6dd-bcca8d07ad67');\n",
              "        const dataTable =\n",
              "          await google.colab.kernel.invokeFunction('convertToInteractive',\n",
              "                                                    [key], {});\n",
              "        if (!dataTable) return;\n",
              "\n",
              "        const docLinkHtml = 'Like what you see? Visit the ' +\n",
              "          '<a target=\"_blank\" href=https://colab.research.google.com/notebooks/data_table.ipynb>data table notebook</a>'\n",
              "          + ' to learn more about interactive tables.';\n",
              "        element.innerHTML = '';\n",
              "        dataTable['output_type'] = 'display_data';\n",
              "        await google.colab.output.renderOutput(dataTable, element);\n",
              "        const docLink = document.createElement('div');\n",
              "        docLink.innerHTML = docLinkHtml;\n",
              "        element.appendChild(docLink);\n",
              "      }\n",
              "    </script>\n",
              "  </div>\n",
              "\n",
              "\n",
              "<div id=\"df-5da91c69-032c-4f0f-81f7-24acac4768c6\">\n",
              "  <button class=\"colab-df-quickchart\" onclick=\"quickchart('df-5da91c69-032c-4f0f-81f7-24acac4768c6')\"\n",
              "            title=\"Suggest charts.\"\n",
              "            style=\"display:none;\">\n",
              "\n",
              "<svg xmlns=\"http://www.w3.org/2000/svg\" height=\"24px\"viewBox=\"0 0 24 24\"\n",
              "     width=\"24px\">\n",
              "    <g>\n",
              "        <path d=\"M19 3H5c-1.1 0-2 .9-2 2v14c0 1.1.9 2 2 2h14c1.1 0 2-.9 2-2V5c0-1.1-.9-2-2-2zM9 17H7v-7h2v7zm4 0h-2V7h2v10zm4 0h-2v-4h2v4z\"/>\n",
              "    </g>\n",
              "</svg>\n",
              "  </button>\n",
              "\n",
              "<style>\n",
              "  .colab-df-quickchart {\n",
              "    background-color: #E8F0FE;\n",
              "    border: none;\n",
              "    border-radius: 50%;\n",
              "    cursor: pointer;\n",
              "    display: none;\n",
              "    fill: #1967D2;\n",
              "    height: 32px;\n",
              "    padding: 0 0 0 0;\n",
              "    width: 32px;\n",
              "  }\n",
              "\n",
              "  .colab-df-quickchart:hover {\n",
              "    background-color: #E2EBFA;\n",
              "    box-shadow: 0px 1px 2px rgba(60, 64, 67, 0.3), 0px 1px 3px 1px rgba(60, 64, 67, 0.15);\n",
              "    fill: #174EA6;\n",
              "  }\n",
              "\n",
              "  [theme=dark] .colab-df-quickchart {\n",
              "    background-color: #3B4455;\n",
              "    fill: #D2E3FC;\n",
              "  }\n",
              "\n",
              "  [theme=dark] .colab-df-quickchart:hover {\n",
              "    background-color: #434B5C;\n",
              "    box-shadow: 0px 1px 3px 1px rgba(0, 0, 0, 0.15);\n",
              "    filter: drop-shadow(0px 1px 2px rgba(0, 0, 0, 0.3));\n",
              "    fill: #FFFFFF;\n",
              "  }\n",
              "</style>\n",
              "\n",
              "  <script>\n",
              "    async function quickchart(key) {\n",
              "      const charts = await google.colab.kernel.invokeFunction(\n",
              "          'suggestCharts', [key], {});\n",
              "    }\n",
              "    (() => {\n",
              "      let quickchartButtonEl =\n",
              "        document.querySelector('#df-5da91c69-032c-4f0f-81f7-24acac4768c6 button');\n",
              "      quickchartButtonEl.style.display =\n",
              "        google.colab.kernel.accessAllowed ? 'block' : 'none';\n",
              "    })();\n",
              "  </script>\n",
              "</div>\n",
              "    </div>\n",
              "  </div>\n"
            ]
          },
          "metadata": {},
          "execution_count": 42
        }
      ],
      "source": [
        "# 'new_data1' now contains the DataFrame with the specified columns dropped\n",
        "new_data1.head()"
      ]
    },
    {
      "cell_type": "code",
      "execution_count": 43,
      "metadata": {
        "id": "yHsY2EYPJifH"
      },
      "outputs": [],
      "source": [
        "y_over = new_data1.Diabetes_Status\n",
        "X_over = new_data1.drop([\"Diabetes_Status\"],axis = 1)\n",
        "columns = X_over.columns.tolist()"
      ]
    },
    {
      "cell_type": "code",
      "execution_count": 44,
      "metadata": {
        "colab": {
          "base_uri": "https://localhost:8080/"
        },
        "id": "tfm9EoDI__nA",
        "outputId": "663c37a4-b30a-444e-a880-b207c31c3dec"
      },
      "outputs": [
        {
          "output_type": "stream",
          "name": "stdout",
          "text": [
            "\n",
            "Class distribution after oversampling:\n",
            "0    218334\n",
            "1    218334\n",
            "Name: Diabetes_Status, dtype: int64\n"
          ]
        }
      ],
      "source": [
        "# Apply SMOTE for oversampling\n",
        "smote = SMOTE(sampling_strategy='auto', random_state=42)\n",
        "X_over, y_over = smote.fit_resample(X_over, y_over)\n",
        "\n",
        "# Display the class distribution after oversampling\n",
        "print(\"\\nClass distribution after oversampling:\")\n",
        "print(pd.Series(y_over).value_counts())"
      ]
    },
    {
      "cell_type": "code",
      "execution_count": 45,
      "metadata": {
        "id": "LrvaWrM47TTB"
      },
      "outputs": [],
      "source": [
        "X_train_over1, X_test_over1, Y_train_over1, Y_test_over1 = train_test_split(X_over ,y_over , test_size = 0.3, random_state = 42)"
      ]
    },
    {
      "cell_type": "code",
      "execution_count": 46,
      "metadata": {
        "id": "-rzi2Mgt5glx"
      },
      "outputs": [],
      "source": [
        "# Scale the selected features in both training and test sets\n",
        "scaler = StandardScaler()\n",
        "X_train_over1 = scaler.fit_transform(X_train_over1)\n",
        "X_test_over1 = scaler.transform(X_test_over1)\n"
      ]
    },
    {
      "cell_type": "markdown",
      "metadata": {
        "id": "nGiT3z2r4mf2"
      },
      "source": [
        "Hyper-Parameter Tuning"
      ]
    },
    {
      "cell_type": "code",
      "execution_count": null,
      "metadata": {
        "id": "-DybE9z-4mf2",
        "outputId": "66a4e9b4-e904-4495-e745-e472d8878c21"
      },
      "outputs": [
        {
          "name": "stdout",
          "output_type": "stream",
          "text": [
            "Best Logistic Regression Parameters: {'C': 0.1}\n",
            "Best Logistic Regression Score: 0.7028498322473735\n",
            "Best XGBoost Parameters: {'learning_rate': 0.2, 'max_depth': 5, 'n_estimators': 300}\n",
            "Best XGBoost Score: 0.7122064175583054\n",
            "Best Voting Classifier Parameters: {'voting': 'soft'}\n",
            "Best Voting Classifier Score: 0.7113689065312212\n"
          ]
        }
      ],
      "source": [
        "from sklearn.model_selection import GridSearchCV\n",
        "import xgboost as xgb\n",
        "from sklearn.linear_model import LogisticRegression\n",
        "from sklearn.ensemble import VotingClassifier\n",
        "\n",
        "# Define the parameter grids for each classifier\n",
        "lr_params = {'C': [0.1, 1, 10]}\n",
        "xgb_params = {'n_estimators': [100, 200, 300], 'max_depth': [3, 4, 5],'learning_rate': [0.01, 0.1, 0.2]}\n",
        "vc_params = {'voting': [ 'soft']}\n",
        "\n",
        "# Initialize classifiers\n",
        "lr = LogisticRegression()\n",
        "xgb_classifier = xgb.XGBClassifier()\n",
        "vc = VotingClassifier(estimators=[('lr', lr), ('xgb', xgb_classifier)], voting='soft')\n",
        "\n",
        "# Perform grid search with cross-validation for Logistic Regression\n",
        "lr_gs = GridSearchCV(lr, lr_params, cv=5, n_jobs=-1, scoring='precision')\n",
        "lr_gs.fit(X_train_over1, Y_train_over1)\n",
        "\n",
        "# Perform grid search with cross-validation for XGBoost\n",
        "xgb_gs = GridSearchCV(xgb_classifier, xgb_params, cv=5, n_jobs=-1, scoring='precision' )\n",
        "xgb_gs.fit(X_train_over1, Y_train_over1)\n",
        "\n",
        "# Perform grid search with cross-validation for the Voting Classifier\n",
        "vc_gs = GridSearchCV(vc, vc_params, cv=5, n_jobs=-1)\n",
        "vc_gs.fit(X_train_over1, Y_train_over1)\n",
        "\n",
        "# Get the best parameters and best score for each model\n",
        "best_lr_params = lr_gs.best_params_\n",
        "best_lr_score = lr_gs.best_score_\n",
        "\n",
        "best_xgb_params = xgb_gs.best_params_\n",
        "best_xgb_score = xgb_gs.best_score_\n",
        "\n",
        "best_vc_params = vc_gs.best_params_\n",
        "best_vc_score = vc_gs.best_score_\n",
        "\n",
        "# Print the best parameters and scores for each model\n",
        "print(\"Best Logistic Regression Parameters:\", best_lr_params)\n",
        "print(\"Best Logistic Regression Score:\", best_lr_score)\n",
        "\n",
        "print(\"Best XGBoost Parameters:\", best_xgb_params)\n",
        "print(\"Best XGBoost Score:\", best_xgb_score)\n",
        "\n",
        "print(\"Best Voting Classifier Parameters:\", best_vc_params)\n",
        "print(\"Best Voting Classifier Score:\", best_vc_score)\n"
      ]
    },
    {
      "cell_type": "markdown",
      "metadata": {
        "id": "Ay5UZ4Vs6NGJ"
      },
      "source": [
        "Algorithm Modelling"
      ]
    },
    {
      "cell_type": "code",
      "execution_count": 47,
      "metadata": {
        "colab": {
          "base_uri": "https://localhost:8080/"
        },
        "id": "NOtIrOab5gpY",
        "outputId": "35b2377d-f55e-404f-bfe7-a3037be7d294"
      },
      "outputs": [
        {
          "output_type": "stream",
          "name": "stdout",
          "text": [
            "Accuracy: 0.7617880779536034\n",
            "Precision: 0.7697537583013897\n",
            "Recall: 0.7460516458483037\n",
            "AUC: 0.8563794181264461\n",
            "Confusion Matrix:\n",
            "[[50998 14596]\n",
            " [16610 48797]]\n",
            "Classification Report:\n",
            "               precision    recall  f1-score   support\n",
            "\n",
            "           0       0.75      0.78      0.77     65594\n",
            "           1       0.77      0.75      0.76     65407\n",
            "\n",
            "    accuracy                           0.76    131001\n",
            "   macro avg       0.76      0.76      0.76    131001\n",
            "weighted avg       0.76      0.76      0.76    131001\n",
            "\n"
          ]
        }
      ],
      "source": [
        "# Create Logistics Regression classifier\n",
        "lg = LogisticRegression(solver='liblinear', C= 0.1)\n",
        "\n",
        "# Train the classifier\n",
        "lg.fit(X_train_over1, Y_train_over1)\n",
        "\n",
        "# Make predictions on the testing set\n",
        "y_pred_lgover = lg.predict(X_test_over1)\n",
        "\n",
        "y_pred_lgover1 = lg.predict_proba(X_test_over1)[:, 1]\n",
        "fpr_lgover, tpr_lgover, thresholds_lgover = roc_curve(Y_test_over1, y_pred_lgover1)\n",
        "auc_lgover = roc_auc_score(Y_test_over1, y_pred_lgover1)\n",
        "\n",
        "# Evaluate the model\n",
        "#print('Accuracy:', accuracy_score(Y_test_over, y_pred_lg))\n",
        "#print('Confusion Matrix:', confusion_matrix(Y_test_over, y_pred_lg))\n",
        "\n",
        "# Evaluate the model\n",
        "print('Accuracy:', accuracy_score(Y_test_over1, y_pred_lgover))\n",
        "print('Precision:', precision_score(Y_test_over1, y_pred_lgover))\n",
        "print('Recall:', recall_score(Y_test_over1, y_pred_lgover))\n",
        "print('AUC:', auc_lgover)\n",
        "print('Confusion Matrix:')\n",
        "print(confusion_matrix(Y_test_over1, y_pred_lgover))\n",
        "\n",
        "# Classification report\n",
        "class_report = classification_report(Y_test_over1, y_pred_lgover)\n",
        "print('Classification Report:\\n', class_report)"
      ]
    },
    {
      "cell_type": "code",
      "execution_count": 48,
      "metadata": {
        "colab": {
          "base_uri": "https://localhost:8080/"
        },
        "id": "AHCtMD5s-5ag",
        "outputId": "8f7f9113-0923-41fe-8556-4f8a4d716173"
      },
      "outputs": [
        {
          "output_type": "stream",
          "name": "stdout",
          "text": [
            "Accuracy: 0.724879962748376\n",
            "Precision: 0.7632116735981643\n",
            "Recall: 0.6509242130047243\n",
            "f1: 0.7026099297802642\n",
            "AUC: 0.8273055700228324\n",
            "Confusion Matrix:\n",
            "[[52385 13209]\n",
            " [22832 42575]]\n",
            "Classification Report:\n",
            "               precision    recall  f1-score   support\n",
            "\n",
            "           0       0.70      0.80      0.74     65594\n",
            "           1       0.76      0.65      0.70     65407\n",
            "\n",
            "    accuracy                           0.72    131001\n",
            "   macro avg       0.73      0.72      0.72    131001\n",
            "weighted avg       0.73      0.72      0.72    131001\n",
            "\n"
          ]
        }
      ],
      "source": [
        "from sklearn.naive_bayes import GaussianNB\n",
        "from sklearn.metrics import accuracy_score, confusion_matrix\n",
        "\n",
        "# Create Naive Bayes classifier\n",
        "nb = GaussianNB()\n",
        "\n",
        "# Train the classifier\n",
        "nb.fit(X_train_over1, Y_train_over1)\n",
        "\n",
        "# Make predictions on the testing set\n",
        "y_pred_nbover = nb.predict(X_test_over1)\n",
        "\n",
        "y_pred_nbover1 = nb.predict_proba(X_test_over1)[:, 1]\n",
        "fpr_nbover, tpr_nbover, thresholds_nbover = roc_curve(Y_test_over1, y_pred_nbover1)\n",
        "auc_nbover = roc_auc_score(Y_test_over1, y_pred_nbover1)\n",
        "\n",
        "# Evaluate the model\n",
        "#print('Accuracy:', accuracy_score(Y_test_over, y_pred_nb))\n",
        "#print('Confusion Matrix:', confusion_matrix(Y_test_over, y_pred_nb))\n",
        "\n",
        "# Evaluate the model\n",
        "print('Accuracy:', accuracy_score(Y_test_over1, y_pred_nbover))\n",
        "print('Precision:', precision_score(Y_test_over1, y_pred_nbover))\n",
        "print('Recall:', recall_score(Y_test_over1, y_pred_nbover))\n",
        "print('f1:', f1_score(Y_test_over1, y_pred_nbover))\n",
        "print('AUC:', auc_nbover)\n",
        "print('Confusion Matrix:')\n",
        "print(confusion_matrix(Y_test_over1, y_pred_nbover))\n",
        "\n",
        "\n",
        "# Classification report\n",
        "class_report = classification_report(Y_test_over1, y_pred_nbover)\n",
        "print('Classification Report:\\n', class_report)"
      ]
    },
    {
      "cell_type": "code",
      "execution_count": 49,
      "metadata": {
        "colab": {
          "base_uri": "https://localhost:8080/"
        },
        "id": "A6bYjFe_r_33",
        "outputId": "00599af1-de36-4c76-8365-53edb57c95b1"
      },
      "outputs": [
        {
          "output_type": "stream",
          "name": "stdout",
          "text": [
            "Accuracy: 0.86871855940031\n",
            "Precision: 0.8868045637626972\n",
            "Recall: 0.8449095662543764\n",
            "f1: 0.8653502865553849\n",
            "AUC: 0.9540883511108601\n",
            "Confusion Matrix:\n",
            "[[58540  7054]\n",
            " [10144 55263]]\n",
            "Classification Report:\n",
            "               precision    recall  f1-score   support\n",
            "\n",
            "           0       0.85      0.89      0.87     65594\n",
            "           1       0.89      0.84      0.87     65407\n",
            "\n",
            "    accuracy                           0.87    131001\n",
            "   macro avg       0.87      0.87      0.87    131001\n",
            "weighted avg       0.87      0.87      0.87    131001\n",
            "\n"
          ]
        }
      ],
      "source": [
        "import xgboost as xgb\n",
        "from sklearn.metrics import accuracy_score, confusion_matrix\n",
        "\n",
        "# Create XGBoost classifier\n",
        "xgb_classifier = xgb.XGBClassifier( n_estimators= 300, max_depth= 5 ,learning_rate = 0.2)\n",
        "\n",
        "# Train the classifier\n",
        "xgb_classifier.fit(X_train_over1, Y_train_over1)\n",
        "\n",
        "# Make predictions on the testing set\n",
        "y_pred_xgb = xgb_classifier.predict(X_test_over1)\n",
        "\n",
        "# Get predicted probabilities for positive class\n",
        "y_pred_proba_xgb = xgb_classifier.predict_proba(X_test_over1)[:, 1]\n",
        "\n",
        "\n",
        "# Evaluate the model\n",
        "fpr_xgb, tpr_xgb, thresholds_xgb = roc_curve(Y_test_over1, y_pred_proba_xgb)\n",
        "accuracy = accuracy_score(Y_test_over1, y_pred_xgb)\n",
        "confusion_mat = confusion_matrix(Y_test_over1, y_pred_xgb)\n",
        "auc_xgb = roc_auc_score(Y_test_over1, y_pred_proba_xgb)\n",
        "\n",
        "\n",
        "# Evaluate the model\n",
        "print('Accuracy:', accuracy_score(Y_test_over1, y_pred_xgb))\n",
        "print('Precision:', precision_score(Y_test_over1, y_pred_xgb))\n",
        "print('Recall:', recall_score(Y_test_over1, y_pred_xgb))\n",
        "print('f1:', f1_score(Y_test_over1, y_pred_xgb))\n",
        "print('AUC:', auc_xgb)\n",
        "\n",
        "print('Confusion Matrix:')\n",
        "print(confusion_matrix(Y_test_over1, y_pred_xgb))\n",
        "\n",
        "\n",
        "# Classification report\n",
        "class_report = classification_report(Y_test_over1, y_pred_xgb)\n",
        "print('Classification Report:\\n', class_report)\n"
      ]
    },
    {
      "cell_type": "code",
      "execution_count": 50,
      "metadata": {
        "colab": {
          "base_uri": "https://localhost:8080/",
          "height": 487
        },
        "id": "ow2nPdEL965l",
        "outputId": "1204b85b-c8df-4222-8e45-e585464c48d1"
      },
      "outputs": [
        {
          "output_type": "display_data",
          "data": {
            "text/plain": [
              "<Figure size 700x500 with 1 Axes>"
            ],
            "image/png": "[encoded data removed]"
          },
          "metadata": {}
        }
      ],
      "source": [
        "# Plot ROC AUC curves for Logistic Regression, Naive Bayes, and XGBoost\n",
        "plt.figure(figsize=(7, 5))\n",
        "\n",
        "# Plot Logistic Regression ROC curve\n",
        "plt.plot(fpr_lgover, tpr_lgover, color='blue', lw=2, label=f'Logistic Regression (AUC = {auc_lgover:.2f})')\n",
        "\n",
        "# Plot Naive Bayes ROC curve\n",
        "plt.plot(fpr_nbover, tpr_nbover, color='orange', lw=2, label=f'Naive Bayes (AUC = {auc_nbover:.2f})')\n",
        "\n",
        "# Plot XGBoost ROC curve\n",
        "plt.plot(fpr_xgb, tpr_xgb, color='green', lw=2, label=f'XGBoost (AUC = {auc_xgb:.2f})')\n",
        "\n",
        "# Plot random line for reference\n",
        "plt.plot([0, 1], [0, 1], color='gray', linestyle='--')\n",
        "\n",
        "# Set plot properties\n",
        "plt.xlim([0.0, 1.0])\n",
        "plt.ylim([0.0, 1.05])\n",
        "plt.xlabel('False Positive Rate')\n",
        "plt.ylabel('True Positive Rate')\n",
        "plt.title('Receiver Operating Characteristic (ROC) Curve')\n",
        "plt.legend(loc='lower right')\n",
        "\n",
        "# Show the plot\n",
        "plt.show()\n"
      ]
    },
    {
      "cell_type": "code",
      "execution_count": 51,
      "metadata": {
        "colab": {
          "base_uri": "https://localhost:8080/"
        },
        "id": "TzQJiRiVjQsA",
        "outputId": "a886b1f5-74cf-4266-8fad-d92eda2cfc48"
      },
      "outputs": [
        {
          "output_type": "stream",
          "name": "stdout",
          "text": [
            "False Alarm Rate: 0.10754032381010459\n"
          ]
        }
      ],
      "source": [
        "# Calculate confusion matrix\n",
        "confusion_mat = confusion_matrix(Y_test_over1, y_pred_xgb)\n",
        "tn, fp, fn, tp = confusion_mat.ravel()\n",
        "\n",
        "\n",
        "# Calculate False Alarm Rate (FAR)\n",
        "false_alarm_rate = fp / (fp + tn)\n",
        "\n",
        "# Print metrics\n",
        "print('False Alarm Rate:', false_alarm_rate)"
      ]
    },
    {
      "cell_type": "code",
      "execution_count": 52,
      "metadata": {
        "colab": {
          "base_uri": "https://localhost:8080/",
          "height": 545
        },
        "id": "Yq8KPQiQNGJr",
        "outputId": "776a0d34-61b7-4d79-fae7-8c04c017b78a"
      },
      "outputs": [
        {
          "output_type": "display_data",
          "data": {
            "text/plain": [
              "<Figure size 800x600 with 1 Axes>"
            ],
            "image/png": "[encoded data removed]"
          },
          "metadata": {}
        }
      ],
      "source": [
        "\n",
        "colors = ['#865DFF', '#61876E', '#FE6244']  # Update colors here ['#865DFF', '#FFC6D3']\n",
        "\n",
        "# Calculate confusion matrix\n",
        "# Compute classification report\n",
        "report = classification_report(Y_test_over1, y_pred_xgb, output_dict=True)\n",
        "precision = report['1']['precision']\n",
        "recall = report['1']['recall']\n",
        "f1 = report['1']['f1-score']\n",
        "\n",
        "# Create a bar chart\n",
        "labels = ['Precision', 'Recall', 'F1-score']\n",
        "scores = [precision, recall, f1]\n",
        "x = np.arange(len(labels))\n",
        "\n",
        "# Increase size of chart\n",
        "plt.figure(figsize=(8, 6))\n",
        "\n",
        "plt.bar(x, scores, color=colors)\n",
        "plt.xticks(x, labels)\n",
        "plt.ylabel('Scores')\n",
        "plt.title('XGBoost Model Performance using Under-Sampling')\n",
        "plt.show()\n"
      ]
    },
    {
      "cell_type": "code",
      "execution_count": null,
      "metadata": {
        "colab": {
          "base_uri": "https://localhost:8080/"
        },
        "id": "CL-GEVMstqVC",
        "outputId": "a2c846e9-4c4d-4e10-817d-152146ca8d1a"
      },
      "outputs": [
        {
          "name": "stdout",
          "output_type": "stream",
          "text": [
            "Epoch 1/10\n",
            "10917/10917 [==============================] - 8s 663us/step - loss: 0.3393 - recall: 0.8398\n",
            "Epoch 2/10\n",
            "10917/10917 [==============================] - 7s 667us/step - loss: 0.2596 - recall: 0.8708\n",
            "Epoch 3/10\n",
            "10917/10917 [==============================] - 7s 656us/step - loss: 0.2373 - recall: 0.8762\n",
            "Epoch 4/10\n",
            "10917/10917 [==============================] - 7s 665us/step - loss: 0.2268 - recall: 0.8776\n",
            "Epoch 5/10\n",
            "10917/10917 [==============================] - 7s 653us/step - loss: 0.2192 - recall: 0.8793\n",
            "Epoch 6/10\n",
            "10917/10917 [==============================] - 7s 671us/step - loss: 0.2135 - recall: 0.8797\n",
            "Epoch 7/10\n",
            "10917/10917 [==============================] - 7s 656us/step - loss: 0.2088 - recall: 0.8786\n",
            "Epoch 8/10\n",
            "10917/10917 [==============================] - 7s 666us/step - loss: 0.2059 - recall: 0.8783\n",
            "Epoch 9/10\n",
            "10917/10917 [==============================] - 7s 655us/step - loss: 0.2030 - recall: 0.8779\n",
            "Epoch 10/10\n",
            "10917/10917 [==============================] - 7s 655us/step - loss: 0.2008 - recall: 0.8772\n",
            "2730/2730 [==============================] - 1s 519us/step\n",
            "Confusion Matrix:\n",
            "[[43295   478]\n",
            " [ 9252 34309]]\n",
            "\n",
            "Classification Report:\n",
            "              precision    recall  f1-score   support\n",
            "\n",
            "         0.0       0.82      0.99      0.90     43773\n",
            "         1.0       0.99      0.79      0.88     43561\n",
            "\n",
            "    accuracy                           0.89     87334\n",
            "   macro avg       0.91      0.89      0.89     87334\n",
            "weighted avg       0.90      0.89      0.89     87334\n",
            "\n"
          ]
        }
      ],
      "source": [
        "# Build the ANN model\n",
        "model = Sequential()\n",
        "\n",
        "# Add input layer and hidden layers\n",
        "model.add(Dense(units=64, activation='relu', input_dim=X_train_over1.shape[1]))\n",
        "model.add(Dense(units=32, activation='relu'))\n",
        "\n",
        "\n",
        "# Add output layer\n",
        "model.add(Dense(units=1, activation='sigmoid'))\n",
        "\n",
        "# Compile the model\n",
        "model.compile(optimizer='adam', loss='binary_crossentropy', metrics=['Recall'])\n",
        "\n",
        "# Train the model\n",
        "model.fit(X_train_over1, Y_train_over1, epochs=10, batch_size=32, verbose=1)\n",
        "\n",
        "# Evaluate the model on the test set\n",
        "#y_pred = model.predict_classes(X_test_over1)\n",
        "#confusion = confusion_matrix(Y_test_over1, y_pred)\n",
        "#class_report = classification_report(Y_test_over1, y_pred)\n",
        "\n",
        "# Predict probabilities\n",
        "y_pred_proba = model.predict(X_test_over1)\n",
        "\n",
        "# Apply threshold for class prediction (adjust threshold as needed)\n",
        "threshold = 0.7\n",
        "y_pred = (y_pred_proba > threshold).astype(int)\n",
        "\n",
        "# Calculate confusion matrix and classification report\n",
        "confusion = confusion_matrix(Y_test_over1, y_pred)\n",
        "class_report = classification_report(Y_test_over1, y_pred)\n",
        "\n",
        "print(\"Confusion Matrix:\")\n",
        "print(confusion)\n",
        "print(\"\\nClassification Report:\")\n",
        "print(class_report)\n"
      ]
    },
    {
      "cell_type": "code",
      "execution_count": 53,
      "metadata": {
        "id": "LsB_hd274mf3",
        "outputId": "240d52ff-b4b0-4efd-9916-6faa64eb3cf3",
        "colab": {
          "base_uri": "https://localhost:8080/"
        }
      },
      "outputs": [
        {
          "output_type": "stream",
          "name": "stdout",
          "text": [
            "High Blood Pressure (yes/no): yes\n",
            "High Cholesterol (yes/no): yes\n",
            "Cholesterol Check (yes/no): no\n",
            "Smoker (yes/no): no\n",
            "Stroke (yes/no): no\n",
            "Veggies (yes/no): no\n",
            "Heart Disease or Attack (yes/no): no\n",
            "AnyHealthcare (yes/no): no\n",
            "Fruits (yes/no): no\n",
            "NoDocbcCost (yes/no): no\n",
            "BMI: 8\n",
            "Income: 5\n",
            "Ment_Hlth: 4\n",
            "GenHlth: 3\n",
            "Phys_Hlth: 5\n",
            "Patient has diabetes.\n"
          ]
        }
      ],
      "source": [
        "#import numpy as np\n",
        "#import pickle\n",
        "\n",
        "# Load the trained XGBoost classifier\n",
        "#with open('xgb_classifier.pkl', 'rb') as model_file:\n",
        "    #xgb_classifier = pickle.load(model_file)\n",
        "\n",
        "# Mapping for \"yes\" and \"no\"\n",
        "yes_no_mapping = {\"yes\": 1, \"no\": 0}\n",
        "\n",
        "# Collect user inputs\n",
        "high_bp = input(\"High Blood Pressure (yes/no): \").lower()\n",
        "high_chol = input(\"High Cholesterol (yes/no): \").lower()\n",
        "chol_check = input(\"Cholesterol Check (yes/no): \").lower()\n",
        "smoker = input(\"Smoker (yes/no): \").lower()\n",
        "stroke = input(\"Stroke (yes/no): \").lower()\n",
        "Veggies = input(\"Veggies (yes/no): \").lower()\n",
        "heart_disease = input(\"Heart Disease or Attack (yes/no): \").lower()\n",
        "AnyHealthcare = input(\"AnyHealthcare (yes/no): \").lower()\n",
        "Fruits = input(\"Fruits (yes/no): \").lower()\n",
        "NoDocbcCost = input(\"NoDocbcCost (yes/no): \").lower()\n",
        "BMI = float(input(\"BMI: \"))\n",
        "Income = float(input(\"Income: \"))\n",
        "Ment_Hlth = float(input(\"Ment_Hlth: \"))\n",
        "GenHlth = float(input(\"GenHlth: \"))\n",
        "\n",
        "Phys_Hlth = float(input(\"Phys_Hlth: \"))\n",
        "\n",
        "# Map categorical inputs to 1 or 0\n",
        "high_bp = yes_no_mapping.get(high_bp, -1)\n",
        "high_chol = yes_no_mapping.get(high_chol, -1)\n",
        "chol_check = yes_no_mapping.get(chol_check, -1)\n",
        "smoker = yes_no_mapping.get(smoker, -1)\n",
        "stroke = yes_no_mapping.get(stroke, -1)\n",
        "heart_disease = yes_no_mapping.get(heart_disease, -1)\n",
        "AnyHealthcare = yes_no_mapping.get(AnyHealthcare, -1)\n",
        "Fruits = yes_no_mapping.get(Fruits, -1)\n",
        "NoDocbcCost = yes_no_mapping.get(NoDocbcCost, -1)\n",
        "Veggies = yes_no_mapping.get(Veggies, -1)\n",
        "\n",
        "# Check if any input was invalid\n",
        "if any(val == -1 for val in [high_bp, high_chol, chol_check, smoker, stroke, heart_disease, AnyHealthcare, Fruits, NoDocbcCost, Veggies]):\n",
        "    print(\"Invalid input detected. Please provide 'yes' or 'no' for categorical inputs.\")\n",
        "else:\n",
        "    # Convert the collected inputs to a list\n",
        "    input_data = [high_bp, high_chol, chol_check, smoker, stroke, heart_disease, AnyHealthcare, GenHlth, Fruits, NoDocbcCost, Veggies, Phys_Hlth, Ment_Hlth, BMI,Income]\n",
        "\n",
        "    # Convert the input data to a numpy array\n",
        "    X_input = np.array([input_data])\n",
        "\n",
        "    # Make predictions on reshaped input data\n",
        "    y_pred_xgb = xgb_classifier.predict(X_input)\n",
        "\n",
        "    # Print the prediction\n",
        "    if y_pred_xgb[0] == 1:\n",
        "        print(\"Patient has diabetes.\")\n",
        "    else:\n",
        "        print(\"Patient does not have diabetes.\")\n"
      ]
    },
    {
      "cell_type": "code",
      "execution_count": null,
      "metadata": {
        "id": "I8AAh9iu4mf3"
      },
      "outputs": [],
      "source": [
        "import pickle"
      ]
    },
    {
      "cell_type": "code",
      "execution_count": null,
      "metadata": {
        "id": "o72UVY6H4mf3"
      },
      "outputs": [],
      "source": []
    },
    {
      "cell_type": "code",
      "execution_count": null,
      "metadata": {
        "id": "ym0Cig8Ltqdx"
      },
      "outputs": [],
      "source": [
        "# Save the trained model to a file named 'model.pkl'\n",
        "with open('xgb_classifier.pkl', 'wb') as model_file:\n",
        "    pickle.dump(xgb_classifier, model_file)"
      ]
    }
  ],
  "metadata": {
    "colab": {
      "provenance": []
    },
    "kernelspec": {
      "display_name": "Python 3 (ipykernel)",
      "language": "python",
      "name": "python3"
    },
    "language_info": {
      "codemirror_mode": {
        "name": "ipython",
        "version": 3
      },
      "file_extension": ".py",
      "mimetype": "text/x-python",
      "name": "python",
      "nbconvert_exporter": "python",
      "pygments_lexer": "ipython3",
      "version": "3.10.9"
    }
  },
  "nbformat": 4,
  "nbformat_minor": 0
}